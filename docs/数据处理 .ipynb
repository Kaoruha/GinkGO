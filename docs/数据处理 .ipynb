{
 "cells": [
  {
   "cell_type": "code",
   "execution_count": 25,
   "metadata": {},
   "outputs": [
    {
     "name": "stdout",
     "output_type": "stream",
     "text": [
      "   id\n",
      "0   1\n",
      "1   2\n",
      "2   3\n",
      "3   4\n",
      "4   5\n",
      "5   6\n",
      "id    7\n",
      "dtype: int64\n"
     ]
    }
   ],
   "source": [
    "import pandas as pd\n",
    "\n",
    "d = {}\n",
    "test_dict = {'id':[1,2,3,4,5,6]}\n",
    "df = pd.DataFrame(test_dict)\n",
    "print(df)\n",
    "\n",
    "d = df.append(pd.DataFrame({'id':[22]}), ignore_index=True)\n",
    "\n",
    "print(d.count())\n",
    "{'sh.600000': date           1999-11-10\n",
    "code            sh.600000\n",
    "open                 29.5\n",
    "high                 29.8\n",
    "low                    27\n",
    "close               27.75\n",
    "preclose               10\n",
    "volume          174085055\n",
    "amount         4.8591e+09\n",
    "adjustflag              3\n",
    "turn              54.4016\n",
    "tradestatus             1\n",
    "pctChg              177.5\n",
    "isST                    0}"
   ]
  }
 ],
 "metadata": {
  "kernelspec": {
   "display_name": "Python 3",
   "language": "python",
   "name": "python3"
  },
  "language_info": {
   "codemirror_mode": {
    "name": "ipython",
    "version": 3
   },
   "file_extension": ".py",
   "mimetype": "text/x-python",
   "name": "python",
   "nbconvert_exporter": "python",
   "pygments_lexer": "ipython3",
   "version": "3.7.6"
  }
 },
 "nbformat": 4,
 "nbformat_minor": 4
}
