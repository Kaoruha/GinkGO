{
 "cells": [
  {
   "cell_type": "code",
   "execution_count": null,
   "metadata": {},
   "outputs": [],
   "source": [
    "import socket\n",
    "import threading\n",
    "server = socket.socket(socket.AF_INET,socket.SOCK_STREAM)\n",
    "server.bind(('0.0.0.0', 8000))\n",
    "server.listen()\n",
    "\n",
    "def handle_sock(sock, addr):\n",
    "    while True:\n",
    "        data = sock.recv(1024)\n",
    "        print(data.decode(\"utf8\"))\n",
    "        re_data = input()\n",
    "        sock.send(re_data.encode(\"utf8\"))\n",
    "\n",
    "while True:\n",
    "    sock, addr = server.accept()\n",
    "    '''用线程去处理新接收的连接（用户）'''\n",
    "    client_thread = threading.Thread(target=handle_sock, args=(sock, addr))#传的一定是函数名称\n",
    "    client_thread.start()"
   ]
  }
 ],
 "metadata": {
  "kernelspec": {
   "display_name": "Python 3",
   "language": "python",
   "name": "python3"
  },
  "language_info": {
   "codemirror_mode": {
    "name": "ipython",
    "version": 3
   },
   "file_extension": ".py",
   "mimetype": "text/x-python",
   "name": "python",
   "nbconvert_exporter": "python",
   "pygments_lexer": "ipython3",
   "version": "3.7.7"
  }
 },
 "nbformat": 4,
 "nbformat_minor": 4
}
