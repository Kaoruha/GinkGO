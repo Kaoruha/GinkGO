{
 "cells": [
  {
   "cell_type": "code",
   "execution_count": 14,
   "metadata": {},
   "outputs": [
    {
     "name": "stdout",
     "output_type": "stream",
     "text": [
      "./static/data/for_dir_test 已经存在\n",
      "F:\\BeuQuant\\notes\n"
     ]
    }
   ],
   "source": [
    "\"\"\"\n",
    "系统工具类方法\n",
    "\"\"\"\n",
    "import os\n",
    "\n",
    "\n",
    "def __is_dir_exists(path):\n",
    "    \"\"\"\n",
    "    判断目录是否存在\n",
    "    :param path: 文件目录\n",
    "    :return: 如果存在返回True，不存在返回False\n",
    "    \"\"\"\n",
    "    is_exists = os.path.exists(path)\n",
    "    return is_exists\n",
    "\n",
    "\n",
    "def mkdir(path):\n",
    "    \"\"\"\n",
    "    先判断目录是否存在，如果不存在则创建目录\n",
    "    :param path: 文件目录\n",
    "    :return:\n",
    "    \"\"\"\n",
    "    if not __is_dir_exists(path):\n",
    "        os.makedirs(path, mode=0o777)\n",
    "        print(f\"{path} 创建成功\")\n",
    "    else:\n",
    "        print(f\"{path} 已经存在\")\n",
    "        \n",
    "        \n",
    "path = './static/data/for_dir_test'       \n",
    "mkdir(path)\n",
    "print (os.getcwd())\n",
    "# 获取当前工作目录路径"
   ]
  }
 ],
 "metadata": {
  "kernelspec": {
   "display_name": "Python 3",
   "language": "python",
   "name": "python3"
  },
  "language_info": {
   "codemirror_mode": {
    "name": "ipython",
    "version": 3
   },
   "file_extension": ".py",
   "mimetype": "text/x-python",
   "name": "python",
   "nbconvert_exporter": "python",
   "pygments_lexer": "ipython3",
   "version": "3.7.6"
  }
 },
 "nbformat": 4,
 "nbformat_minor": 4
}
