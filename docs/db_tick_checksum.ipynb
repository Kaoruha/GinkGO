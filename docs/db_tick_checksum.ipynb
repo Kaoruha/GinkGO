{
 "cells": [
  {
   "cell_type": "code",
   "execution_count": 1,
   "id": "4cf73027-081b-429f-9c46-a7893eda2dbc",
   "metadata": {},
   "outputs": [],
   "source": [
    "from ginkgo.data import get_stockinfos, get_ticks\n",
    "from tqdm import tqdm"
   ]
  },
  {
   "cell_type": "code",
   "execution_count": 2,
   "id": "bf626795-ee80-436f-aa1b-3467780f4498",
   "metadata": {},
   "outputs": [
    {
     "name": "stdout",
     "output_type": "stream",
     "text": [
      "没有缓存，重新计算并缓存\n"
     ]
    },
    {
     "data": {
      "text/html": [
       "<pre style=\"white-space:pre;overflow-x:auto;line-height:normal;font-family:Menlo,'DejaVu Sans Mono',consolas,'Courier New',monospace\">🗿 <span style=\"color: #008000; text-decoration-color: #008000; font-weight: bold\">Got </span><span style=\"color: #008000; text-decoration-color: #008000; font-weight: bold\">5375</span><span style=\"color: #008000; text-decoration-color: #008000; font-weight: bold\"> records about StockInfo from mysql.</span>\n",
       "</pre>\n"
      ],
      "text/plain": [
       "🗿 \u001b[1;32mGot \u001b[0m\u001b[1;32m5375\u001b[0m\u001b[1;32m records about StockInfo from mysql.\u001b[0m\n"
      ]
     },
     "metadata": {},
     "output_type": "display_data"
    },
    {
     "data": {
      "text/html": [
       "<pre style=\"white-space:pre;overflow-x:auto;line-height:normal;font-family:Menlo,'DejaVu Sans Mono',consolas,'Courier New',monospace\">🐫 FUNCTION <span style=\"color: #808000; text-decoration-color: #808000\">get_stockinfos</span> excuted in <span style=\"color: #008080; text-decoration-color: #008080; font-weight: bold\">0.27330</span> seconds.\n",
       "</pre>\n"
      ],
      "text/plain": [
       "🐫 FUNCTION \u001b[33mget_stockinfos\u001b[0m excuted in \u001b[1;36m0.27330\u001b[0m seconds.\n"
      ]
     },
     "metadata": {},
     "output_type": "display_data"
    },
    {
     "data": {
      "text/html": [
       "<div>\n",
       "<style scoped>\n",
       "    .dataframe tbody tr th:only-of-type {\n",
       "        vertical-align: middle;\n",
       "    }\n",
       "\n",
       "    .dataframe tbody tr th {\n",
       "        vertical-align: top;\n",
       "    }\n",
       "\n",
       "    .dataframe thead th {\n",
       "        text-align: right;\n",
       "    }\n",
       "</style>\n",
       "<table border=\"1\" class=\"dataframe\">\n",
       "  <thead>\n",
       "    <tr style=\"text-align: right;\">\n",
       "      <th></th>\n",
       "      <th>code</th>\n",
       "      <th>code_name</th>\n",
       "      <th>industry</th>\n",
       "      <th>currency</th>\n",
       "      <th>market</th>\n",
       "      <th>list_date</th>\n",
       "      <th>delist_date</th>\n",
       "      <th>uuid</th>\n",
       "      <th>meta</th>\n",
       "      <th>desc</th>\n",
       "      <th>create_at</th>\n",
       "      <th>update_at</th>\n",
       "      <th>is_del</th>\n",
       "      <th>source</th>\n",
       "    </tr>\n",
       "  </thead>\n",
       "  <tbody>\n",
       "    <tr>\n",
       "      <th>0</th>\n",
       "      <td>300355.SZ</td>\n",
       "      <td>蒙草生态</td>\n",
       "      <td>环境保护</td>\n",
       "      <td>CURRENCY_TYPES.CNY</td>\n",
       "      <td>MARKET_TYPES.CHINA</td>\n",
       "      <td>2012-09-27</td>\n",
       "      <td>2100-01-01</td>\n",
       "      <td>0006300715144879a68c0064217fa4a2</td>\n",
       "      <td>{}</td>\n",
       "      <td>This man is lazy, there is no description.</td>\n",
       "      <td>2024-12-04 17:33:30</td>\n",
       "      <td>2024-12-09 00:17:54</td>\n",
       "      <td>False</td>\n",
       "      <td>SOURCE_TYPES.TUSHARE</td>\n",
       "    </tr>\n",
       "    <tr>\n",
       "      <th>1</th>\n",
       "      <td>600332.SH</td>\n",
       "      <td>白云山</td>\n",
       "      <td>中成药</td>\n",
       "      <td>CURRENCY_TYPES.CNY</td>\n",
       "      <td>MARKET_TYPES.CHINA</td>\n",
       "      <td>2001-02-06</td>\n",
       "      <td>2100-01-01</td>\n",
       "      <td>001c3b8150684fc694a06a8baa45b5fc</td>\n",
       "      <td>{}</td>\n",
       "      <td>This man is lazy, there is no description.</td>\n",
       "      <td>2024-12-04 17:33:45</td>\n",
       "      <td>2024-12-09 00:18:14</td>\n",
       "      <td>False</td>\n",
       "      <td>SOURCE_TYPES.TUSHARE</td>\n",
       "    </tr>\n",
       "  </tbody>\n",
       "</table>\n",
       "</div>"
      ],
      "text/plain": [
       "        code code_name industry            currency              market  \\\n",
       "0  300355.SZ      蒙草生态     环境保护  CURRENCY_TYPES.CNY  MARKET_TYPES.CHINA   \n",
       "1  600332.SH       白云山      中成药  CURRENCY_TYPES.CNY  MARKET_TYPES.CHINA   \n",
       "\n",
       "   list_date delist_date                              uuid meta  \\\n",
       "0 2012-09-27  2100-01-01  0006300715144879a68c0064217fa4a2   {}   \n",
       "1 2001-02-06  2100-01-01  001c3b8150684fc694a06a8baa45b5fc   {}   \n",
       "\n",
       "                                         desc           create_at  \\\n",
       "0  This man is lazy, there is no description. 2024-12-04 17:33:30   \n",
       "1  This man is lazy, there is no description. 2024-12-04 17:33:45   \n",
       "\n",
       "            update_at  is_del                source  \n",
       "0 2024-12-09 00:17:54   False  SOURCE_TYPES.TUSHARE  \n",
       "1 2024-12-09 00:18:14   False  SOURCE_TYPES.TUSHARE  "
      ]
     },
     "metadata": {},
     "output_type": "display_data"
    }
   ],
   "source": [
    "stocks = get_stockinfos()\n",
    "display(stocks.head(2))"
   ]
  },
  {
   "cell_type": "code",
   "execution_count": 3,
   "id": "cb1c4836-3332-46cb-a618-4b6fcd70a176",
   "metadata": {},
   "outputs": [
    {
     "name": "stderr",
     "output_type": "stream",
     "text": [
      "Processing stocks (No data: 834014.BJ): 100%|█████████████████████████████████████████████████████████| 5375/5375 [13:59<00:00,  6.41it/s]"
     ]
    },
    {
     "name": "stdout",
     "output_type": "stream",
     "text": [
      "['831175.BJ', '873570.BJ', '430017.BJ', '837212.BJ', '838171.BJ', '830832.BJ', '871263.BJ', '831834.BJ', '871753.BJ', '830974.BJ', '873527.BJ', '831087.BJ', '837403.BJ', '836504.BJ', '833075.BJ', '872931.BJ', '837046.BJ', '430139.BJ', '873806.BJ', '833523.BJ', '870866.BJ', '837821.BJ', '835640.BJ', '838262.BJ', '870357.BJ', '920099.BJ', '870204.BJ', '920060.BJ', '836208.BJ', '831305.BJ', '920066.BJ', '430510.BJ', '872895.BJ', '836892.BJ', '833346.BJ', '833781.BJ', '839719.BJ', '833455.BJ', '834407.BJ', '872925.BJ', '835185.BJ', '872392.BJ', '920098.BJ', '832651.BJ', '835857.BJ', '832802.BJ', '833751.BJ', '832662.BJ', '833230.BJ', '832876.BJ', '834415.BJ', '838701.BJ', '831195.BJ', '833266.BJ', '430476.BJ', '835892.BJ', '832023.BJ', '831906.BJ', '836077.BJ', '839790.BJ', '835207.BJ', '832419.BJ', '873152.BJ', '836826.BJ', '839167.BJ', '834261.BJ', '430564.BJ', '832278.BJ', '873001.BJ', '836699.BJ', '834062.BJ', '831039.BJ', '871857.BJ', '870976.BJ', '831445.BJ', '873167.BJ', '838275.BJ', '872374.BJ', '833580.BJ', '833914.BJ', '835508.BJ', '835438.BJ', '838030.BJ', '920088.BJ', '832225.BJ', '830879.BJ', '833171.BJ', '873169.BJ', '870436.BJ', '832145.BJ', '836961.BJ', '830964.BJ', '835305.BJ', '834021.BJ', '872351.BJ', '839792.BJ', '836414.BJ', '831961.BJ', '836149.BJ', '831855.BJ', '920118.BJ', '831627.BJ', '835670.BJ', '833429.BJ', '834475.BJ', '835237.BJ', '831370.BJ', '873576.BJ', '833509.BJ', '430718.BJ', '838810.BJ', '870199.BJ', '833284.BJ', '832735.BJ', '832982.BJ', '833454.BJ', '430489.BJ', '832469.BJ', '836395.BJ', '836717.BJ', '871245.BJ', '830779.BJ', '873339.BJ', '873693.BJ', '832491.BJ', '831396.BJ', '837242.BJ', '873703.BJ', '836675.BJ', '835184.BJ', '920002.BJ', '838402.BJ', '832175.BJ', '839729.BJ', '838837.BJ', '831167.BJ', '836807.BJ', '834770.BJ', '838924.BJ', '873679.BJ', '834682.BJ', '836221.BJ', '831278.BJ', '430047.BJ', '870508.BJ', '833427.BJ', '836942.BJ', '872190.BJ', '836263.BJ', '837174.BJ', '833533.BJ', '832149.BJ', '831832.BJ', '873833.BJ', '838227.BJ', '871642.BJ', '872808.BJ', '833394.BJ', '835985.BJ', '873706.BJ', '430418.BJ', '835368.BJ', '831010.BJ', '838971.BJ', '839680.BJ', '837023.BJ', '430478.BJ', '871553.BJ', '836270.BJ', '831768.BJ', '920016.BJ', '870656.BJ', '920128.BJ', '872953.BJ', '430090.BJ', '002336.SZ', '837006.BJ', '836433.BJ', '836260.BJ', '836419.BJ', '600423.SH', '831689.BJ', '834639.BJ', '831641.BJ', '871970.BJ', '002185.SZ', '832566.BJ', '834599.BJ', '871478.BJ', '832522.BJ', '301122.SZ', '002253.SZ', '830896.BJ', '837748.BJ', '833575.BJ', '600812.SH', '836547.BJ', '600211.SH', '000683.SZ', '001228.SZ', '688184.SH', '835174.BJ', '003015.SZ', '833030.BJ', '600479.SH', '832000.BJ', '603268.SH', '300018.SZ', '002198.SZ', '872541.BJ', '002919.SZ', '000793.SZ', '300337.SZ', '301603.SZ', '002090.SZ', '002698.SZ', '000960.SZ', '603895.SH', '600717.SH', '688455.SH', '834765.BJ', '000898.SZ', '603000.SH', '603535.SH', '688379.SH', '600033.SH', '603168.SH', '600763.SH', '000977.SZ', '603615.SH', '002871.SZ', '300762.SZ', '830799.BJ', '832171.BJ', '605286.SH', '300338.SZ', '001289.SZ', '600543.SH', '300132.SZ', '000048.SZ', '002347.SZ', '300402.SZ', '301150.SZ', '300911.SZ', '003003.SZ', '832786.BJ', '002848.SZ', '002538.SZ', '000818.SZ', '600058.SH', '839725.BJ', '603041.SH', '301050.SZ', '300476.SZ', '002868.SZ', '603196.SH', '002104.SZ', '002458.SZ', '835179.BJ', '600696.SH', '002692.SZ', '002471.SZ', '837663.BJ', '600489.SH', '873593.BJ', '002229.SZ', '301516.SZ', '000966.SZ', '002916.SZ', '300451.SZ', '600343.SH', '300307.SZ', '300653.SZ', '603920.SH', '600984.SH', '603816.SH', '000526.SZ', '300371.SZ', '300577.SZ', '300591.SZ', '000911.SZ', '000862.SZ', '000759.SZ', '300685.SZ', '300029.SZ', '600103.SH', '600132.SH', '301062.SZ', '301231.SZ', '300426.SZ', '002911.SZ', '002735.SZ', '603568.SH', '301372.SZ', '002350.SZ', '603995.SH', '830809.BJ', '601360.SH', '000019.SZ', '002817.SZ', '832978.BJ', '002528.SZ', '600469.SH', '601500.SH', '002743.SZ', '603267.SH', '601919.SH', '300988.SZ', '836247.BJ', '600299.SH', '600790.SH', '603729.SH', '601136.SH', '688070.SH', '002206.SZ', '600153.SH', '601778.SH', '002383.SZ', '688720.SH', '605007.SH', '301230.SZ', '002391.SZ', '600188.SH', '300019.SZ', '603787.SH', '601985.SH', '000584.SZ', '002899.SZ', '688576.SH', '002378.SZ', '000897.SZ', '002141.SZ', '002622.SZ', '300686.SZ', '301269.SZ', '000058.SZ', '688750.SH', '831526.BJ', '300529.SZ', '300108.SZ', '832471.BJ', '873122.BJ', '300001.SZ', '300235.SZ', '300837.SZ', '301220.SZ', '002675.SZ', '603270.SH', '603833.SH', '001236.SZ', '301502.SZ', '688003.SH', '300518.SZ', '300817.SZ', '300304.SZ', '301331.SZ', '000519.SZ', '833873.BJ', '002564.SZ', '831152.BJ', '873690.BJ', '603010.SH', '300468.SZ', '603027.SH', '603489.SH', '836957.BJ', '871694.BJ', '000056.SZ', '832089.BJ', '600193.SH', '300164.SZ', '300651.SZ', '002322.SZ', '002552.SZ', '833819.BJ', '831856.BJ', '301169.SZ', '300888.SZ', '836422.BJ', '688102.SH', '870299.BJ', '870726.BJ', '301151.SZ', '002373.SZ', '603101.SH', '920019.BJ', '600399.SH', '838670.BJ', '600186.SH', '834950.BJ', '871981.BJ', '839493.BJ', '873726.BJ', '831726.BJ', '603657.SH', '002474.SZ', '603197.SH', '002096.SZ', '301337.SZ', '002103.SZ', '301428.SZ', '603685.SH', '832110.BJ', '832885.BJ', '873223.BJ', '603325.SH', '300004.SZ', '601200.SH', '688508.SH', '837092.BJ', '430198.BJ', '920008.BJ', '830946.BJ', '839273.BJ', '300708.SZ', '600452.SH', '002656.SZ', '833943.BJ', '834058.BJ', '430425.BJ', '836720.BJ', '834033.BJ', '603860.SH', '300854.SZ', '300442.SZ', '003816.SZ', '000403.SZ', '605089.SH', '837344.BJ', '000600.SZ', '836239.BJ', '300797.SZ', '000789.SZ', '871634.BJ', '600363.SH', '000709.SZ', '873132.BJ', '837592.BJ', '300002.SZ', '300900.SZ', '002975.SZ', '001387.SZ', '600655.SH', '688737.SH', '873665.BJ', '605009.SH', '300154.SZ', '600785.SH', '920111.BJ', '002978.SZ', '600130.SH', '002309.SZ', '301349.SZ', '836871.BJ', '688533.SH', '301235.SZ', '603020.SH', '002108.SZ', '838163.BJ', '301259.SZ', '839946.BJ', '300503.SZ', '873305.BJ', '301281.SZ', '430685.BJ', '600215.SH', '300920.SZ', '603843.SH', '688009.SH', '835579.BJ', '001322.SZ', '002596.SZ', '000539.SZ', '871396.BJ', '000628.SZ', '839371.BJ', '002245.SZ', '300199.SZ', '300267.SZ', '600497.SH', '688708.SH', '600791.SH', '600099.SH', '600126.SH', '831304.BJ', '430300.BJ', '300789.SZ', '430556.BJ', '002007.SZ', '000948.SZ', '830839.BJ', '834014.BJ']\n"
     ]
    },
    {
     "name": "stderr",
     "output_type": "stream",
     "text": [
      "\n"
     ]
    }
   ],
   "source": [
    "null_code = []\n",
    "with tqdm(stocks.iterrows(), total=len(stocks), desc=\"Processing stocks\") as pbar:\n",
    "    for i, r in pbar:\n",
    "        code = r['code']\n",
    "        ticks = get_ticks(code=code, page=1, page_size=100, as_dataframe=True, no_log=True)\n",
    "        if ticks.shape[0] == 0:\n",
    "            null_code.append(code)\n",
    "            pbar.set_description(f\"Processing stocks (No data: {code})\")  # 修改进度条描述\n",
    "print(null_code)"
   ]
  },
  {
   "cell_type": "code",
   "execution_count": 4,
   "id": "4281552a-c27b-4e03-8391-e522d7377d57",
   "metadata": {},
   "outputs": [
    {
     "name": "stdout",
     "output_type": "stream",
     "text": [
      "Tick为空:  492\n"
     ]
    }
   ],
   "source": [
    "l = len(null_code)\n",
    "print(\"Tick为空: \", l)"
   ]
  },
  {
   "cell_type": "code",
   "execution_count": null,
   "id": "410223f6-e241-4487-b620-56402805b564",
   "metadata": {},
   "outputs": [],
   "source": []
  }
 ],
 "metadata": {
  "kernelspec": {
   "display_name": "Python 3 (ipykernel)",
   "language": "python",
   "name": "python3"
  },
  "language_info": {
   "codemirror_mode": {
    "name": "ipython",
    "version": 3
   },
   "file_extension": ".py",
   "mimetype": "text/x-python",
   "name": "python",
   "nbconvert_exporter": "python",
   "pygments_lexer": "ipython3",
   "version": "3.12.8"
  }
 },
 "nbformat": 4,
 "nbformat_minor": 5
}
