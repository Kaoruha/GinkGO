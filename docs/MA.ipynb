{
 "cells": [
  {
   "cell_type": "code",
   "execution_count": 2,
   "metadata": {},
   "outputs": [],
   "source": [
    "import pandas as pd"
   ]
  },
  {
   "cell_type": "code",
   "execution_count": 3,
   "metadata": {},
   "outputs": [],
   "source": [
    "daily_columns = [\n",
    "            'date', 'code', 'open', 'high', 'low', 'close', 'preclose',\n",
    "            'volume', 'adjustflag', 'turn', 'tradestatus', 'pctChg', 'isST',\n",
    "            'MA5', 'MA10', 'MA20', 'MA30', 'MA60', 'MA120'\n",
    "        ]\n",
    "\n",
    "t = pd.DataFrame(columns=daily_columns)"
   ]
  },
  {
   "cell_type": "code",
   "execution_count": 4,
   "metadata": {},
   "outputs": [
    {
     "name": "stdout",
     "output_type": "stream",
     "text": [
      "F:\\Ginkgo\\docs\n",
      "            date       code   open   high    low  close  preclose     volume  \\\n",
      "0     1999-11-10  sh.600000  29.50  29.80  27.00  27.75     10.00  174085055   \n",
      "1     1999-11-11  sh.600000  27.58  28.38  27.53  27.71     27.75   29403491   \n",
      "5013  2020-07-21  sh.600000  11.59  11.61  11.40  11.54     11.52   55004587   \n",
      "5014  2020-07-22  sh.600000  11.55  11.75  11.50  11.62     11.54   98687637   \n",
      "4985  2020-06-09  sh.600000  10.62  10.72  10.58  10.68     10.61   17263160   \n",
      "4986  2020-06-10  sh.600000  10.71  10.71  10.58  10.58     10.68   16693480   \n",
      "4965  2020-05-12  sh.600000  10.44  10.48  10.34  10.34     10.43   19405945   \n",
      "4966  2020-05-13  sh.600000  10.31  10.39  10.28  10.38     10.34   15574310   \n",
      "\n",
      "     adjustflag       turn tradestatus      pctChg isST  MA5 MA10 MA20 MA30  \\\n",
      "0             3  54.401580           1  177.500000    0  NaN  NaN  NaN  NaN   \n",
      "1             3   9.188591           1   -0.144147    0  NaN  NaN  NaN  NaN   \n",
      "5013          3   0.195700           1    0.173600    0  NaN  NaN  NaN  NaN   \n",
      "5014          3   0.351200           1    0.693200    0  NaN  NaN  NaN  NaN   \n",
      "4985          3   0.061400           1    0.659800    0  NaN  NaN  NaN  NaN   \n",
      "4986          3   0.059400           1   -0.936300    0  NaN  NaN  NaN  NaN   \n",
      "4965          3   0.069100           1   -0.862900    0  NaN  NaN  NaN  NaN   \n",
      "4966          3   0.055400           1    0.386800    0  NaN  NaN  NaN  NaN   \n",
      "\n",
      "     MA60 MA120        amount  \n",
      "0     NaN   NaN  4.859102e+09  \n",
      "1     NaN   NaN  8.215822e+08  \n",
      "5013  NaN   NaN  6.325768e+08  \n",
      "5014  NaN   NaN  1.147396e+09  \n",
      "4985  NaN   NaN  1.840891e+08  \n",
      "4986  NaN   NaN  1.774409e+08  \n",
      "4965  NaN   NaN  2.014746e+08  \n",
      "4966  NaN   NaN  1.607836e+08  \n"
     ]
    }
   ],
   "source": [
    "import sys\n",
    "print(sys.path[0])\n",
    "to_add = pd.read_csv('../resources/market_data/day/sh.600000.csv')\n",
    "t = t.append(to_add.head(2))\n",
    "t = t.append(to_add.iloc[-2:])\n",
    "t = t.append(to_add.iloc[-30:-28])\n",
    "t = t.append(to_add.iloc[-50:-48])\n",
    "print(t)"
   ]
  },
  {
   "cell_type": "code",
   "execution_count": 6,
   "metadata": {},
   "outputs": [
    {
     "name": "stdout",
     "output_type": "stream",
     "text": [
      "            date       code   open   high    low  close  preclose     volume  \\\n",
      "0     1999-11-10  sh.600000  29.50  29.80  27.00  27.75     10.00  174085055   \n",
      "1     1999-11-11  sh.600000  27.58  28.38  27.53  27.71     27.75   29403491   \n",
      "4965  2020-05-12  sh.600000  10.44  10.48  10.34  10.34     10.43   19405945   \n",
      "4966  2020-05-13  sh.600000  10.31  10.39  10.28  10.38     10.34   15574310   \n",
      "4985  2020-06-09  sh.600000  10.62  10.72  10.58  10.68     10.61   17263160   \n",
      "4986  2020-06-10  sh.600000  10.71  10.71  10.58  10.58     10.68   16693480   \n",
      "5013  2020-07-21  sh.600000  11.59  11.61  11.40  11.54     11.52   55004587   \n",
      "5014  2020-07-22  sh.600000  11.55  11.75  11.50  11.62     11.54   98687637   \n",
      "\n",
      "     adjustflag       turn tradestatus      pctChg isST  MA5 MA10 MA20 MA30  \\\n",
      "0             3  54.401580           1  177.500000    0  NaN  NaN  NaN  NaN   \n",
      "1             3   9.188591           1   -0.144147    0  NaN  NaN  NaN  NaN   \n",
      "4965          3   0.069100           1   -0.862900    0  NaN  NaN  NaN  NaN   \n",
      "4966          3   0.055400           1    0.386800    0  NaN  NaN  NaN  NaN   \n",
      "4985          3   0.061400           1    0.659800    0  NaN  NaN  NaN  NaN   \n",
      "4986          3   0.059400           1   -0.936300    0  NaN  NaN  NaN  NaN   \n",
      "5013          3   0.195700           1    0.173600    0  NaN  NaN  NaN  NaN   \n",
      "5014          3   0.351200           1    0.693200    0  NaN  NaN  NaN  NaN   \n",
      "\n",
      "     MA60 MA120        amount  \n",
      "0     NaN   NaN  4.859102e+09  \n",
      "1     NaN   NaN  8.215822e+08  \n",
      "4965  NaN   NaN  2.014746e+08  \n",
      "4966  NaN   NaN  1.607836e+08  \n",
      "4985  NaN   NaN  1.840891e+08  \n",
      "4986  NaN   NaN  1.774409e+08  \n",
      "5013  NaN   NaN  6.325768e+08  \n",
      "5014  NaN   NaN  1.147396e+09  \n"
     ]
    }
   ],
   "source": [
    "s = t.sort_values(by='date', ascending=True, axis=0)\n",
    "print(s)"
   ]
  },
  {
   "cell_type": "code",
   "execution_count": 11,
   "metadata": {},
   "outputs": [
    {
     "name": "stdout",
     "output_type": "stream",
     "text": [
      "0.0\n",
      "29.5\n",
      "28.54\n",
      "22.506666666666664\n",
      "19.4575\n",
      "17.69\n",
      "from 27.58 to 11.59\n",
      "13.931999999999999\n",
      "from 10.44 to 11.55\n",
      "10.734\n"
     ]
    }
   ],
   "source": [
    "# print(s.shape[0])\n",
    "\n",
    "split = 5\n",
    "for i in range(s.shape[0]):\n",
    "    if i <= split:\n",
    "        a = s['open'].iloc[0:i].sum()\n",
    "        days = 1\n",
    "        if i >=1:\n",
    "            days=i\n",
    "        ma5 = a/days\n",
    "        print(ma5)\n",
    "    else:\n",
    "        start = s['open'].iloc[i-split]\n",
    "        end = s['open'].iloc[i]\n",
    "        print(f'from {start} to {end}')\n",
    "        a = s['open'].iloc[i-split:i].sum()\n",
    "        ma5 = a/split\n",
    "        print(ma5)\n",
    "# print(s)"
   ]
  },
  {
   "cell_type": "code",
   "execution_count": 14,
   "metadata": {},
   "outputs": [],
   "source": [
    "minute_columns = [\n",
    "            'date', 'time', 'code', 'open', 'high', 'low', 'close', 'volume',\n",
    "            'amount', 'adjustflag'\n",
    "        ]\n",
    "m = pd.DataFrame(columns=minute_columns)"
   ]
  },
  {
   "cell_type": "code",
   "execution_count": 15,
   "metadata": {},
   "outputs": [
    {
     "name": "stdout",
     "output_type": "stream",
     "text": [
      "              date               time       code   open   high    low  close  \\\n",
      "0       1999-11-11  19991111093500000  sh.600000  27.58  28.02  27.53  28.02   \n",
      "1       1999-11-11  19991111094000000  sh.600000  28.00  28.10  27.81  27.85   \n",
      "234479  2020-07-22  20200722145500000  sh.600000  11.64  11.64  11.61  11.63   \n",
      "234480  2020-07-22  20200722150000000  sh.600000  11.62  11.63  11.62  11.62   \n",
      "234451  2020-07-22  20200722110500000  sh.600000  11.73  11.74  11.70  11.71   \n",
      "234452  2020-07-22  20200722111000000  sh.600000  11.70  11.74  11.69  11.69   \n",
      "234431  2020-07-21  20200721145500000  sh.600000  11.54  11.55  11.52  11.55   \n",
      "234432  2020-07-21  20200721150000000  sh.600000  11.54  11.55  11.54  11.54   \n",
      "\n",
      "         volume      amount adjustflag hhh  \n",
      "0       2131614  59104096.0          3      \n",
      "1       1302250  36411260.0          3      \n",
      "234479  3230042  37551440.0          3      \n",
      "234480  3664809  42596560.0          3      \n",
      "234451  2212350  25920960.0          3      \n",
      "234452  1740220  20375904.0          3      \n",
      "234431  1570647  18117728.0          3      \n",
      "234432  1618642  18683808.0          3      \n"
     ]
    }
   ],
   "source": [
    "import sys\n",
    "temp = pd.read_csv('../resources/market_data/min/sh.600000.csv')\n",
    "m = m.append(temp.head(2))\n",
    "m = m.append(temp.iloc[-2:])\n",
    "m = m.append(temp.iloc[-30:-28])\n",
    "m = m.append(temp.iloc[-50:-48])\n",
    "m['hhh']=''\n",
    "print(m)"
   ]
  },
  {
   "cell_type": "code",
   "execution_count": null,
   "metadata": {},
   "outputs": [],
   "source": []
  }
 ],
 "metadata": {
  "kernelspec": {
   "display_name": "Python 3",
   "language": "python",
   "name": "python3"
  },
  "language_info": {
   "codemirror_mode": {
    "name": "ipython",
    "version": 3
   },
   "file_extension": ".py",
   "mimetype": "text/x-python",
   "name": "python",
   "nbconvert_exporter": "python",
   "pygments_lexer": "ipython3",
   "version": "3.7.7"
  }
 },
 "nbformat": 4,
 "nbformat_minor": 4
}
