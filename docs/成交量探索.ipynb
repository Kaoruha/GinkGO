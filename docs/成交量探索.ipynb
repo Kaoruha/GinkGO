{
 "cells": [
  {
   "cell_type": "markdown",
   "source": [
    "## 成交量信号探索"
   ],
   "metadata": {}
  },
  {
   "cell_type": "code",
   "execution_count": 1,
   "source": [
    "import numpy as np\r\n",
    "import pandas as pd\r\n",
    "import os\r\n",
    "import time\r\n",
    "import math\r\n",
    "import multiprocessing\r\n",
    "from ginkgo.data.ginkgo_mongo import ginkgo_mongo as gm"
   ],
   "outputs": [],
   "metadata": {}
  },
  {
   "cell_type": "code",
   "execution_count": 2,
   "source": [
    "def check(\r\n",
    "    stock_queue,\r\n",
    "    signal_queue,\r\n",
    "    bull_queue,\r\n",
    "    bear_queue,\r\n",
    "    signal_period:int,\r\n",
    "    observer_period:int,\r\n",
    "    stock:str,\r\n",
    "    signal_rate:float\r\n",
    "    ):\r\n",
    "    df = gm.get_dayBar_by_mongo(code=stock)\r\n",
    "    count = df.shape[0]\r\n",
    "    if count < (signal_period + observer_period +2):\r\n",
    "        stock_queue.put(stock)\r\n",
    "    for i in range(count - signal_period - observer_period -2):\r\n",
    "        if df.iloc[i].volume == '':\r\n",
    "            continue\r\n",
    "        signal_0 = int(df.iloc[i].volume)\r\n",
    "        if signal_0 == 0:\r\n",
    "            continue\r\n",
    "        is_ok = True\r\n",
    "        for j in range(1,signal_period):\r\n",
    "            try:\r\n",
    "                signal_j = int(df.iloc[i+j].volume)\r\n",
    "                signal_p = int(df.iloc[i+j-1].volume)\r\n",
    "            except:\r\n",
    "                break\r\n",
    "            if signal_j < signal_p:\r\n",
    "                is_ok = False\r\n",
    "                break\r\n",
    "        if not is_ok:\r\n",
    "            continue\r\n",
    "        try:\r\n",
    "            signal_1 = int(df.iloc[i+signal_period].volume)\r\n",
    "        except:\r\n",
    "            signal_1 =0\r\n",
    "        \r\n",
    "        if signal_1/signal_0 < signal_rate+1:\r\n",
    "            continue\r\n",
    "\r\n",
    "        signal_queue.put(1)\r\n",
    "        observe_0 = float(df.iloc[i+signal_period+1].close)\r\n",
    "        observe_1 = float(df.iloc[i+signal_period+observer_period+1].close) \r\n",
    "        observe_rate = (observe_1-observe_0) / observe_0\r\n",
    "        \r\n",
    "        if observe_rate >0:\r\n",
    "            bull_queue.put(observe_rate)\r\n",
    "        else:\r\n",
    "            bear_queue.put(observe_rate)\r\n",
    "    stock_queue.put(stock)\r\n",
    "    "
   ],
   "outputs": [],
   "metadata": {}
  },
  {
   "cell_type": "code",
   "execution_count": 4,
   "source": [
    "def p_update(*a):\r\n",
    "    msg = f\"进度: {round(check_done_stock_queue.qsize()/stock_num*100,2)}% \"\r\n",
    "    msg += f\"信号: {signal_queue.qsize()}\"\r\n",
    "    if signal_queue.qsize()>0:\r\n",
    "        msg += f\"上涨: {bull_queue.qsize()}[{round(bull_queue.qsize()/signal_queue.qsize()*100,2)}%]\"\r\n",
    "        msg += f\"下跌: {bear_queue.qsize()}[{round(bear_queue.qsize()/signal_queue.qsize()*100,2)}%]\"\r\n",
    "    print(msg)\r\n",
    "\r\n",
    "if __name__ == \"__main__\":\r\n",
    "    print(f\"Main Process {os.getpid()}..\")\r\n",
    "\r\n",
    "    start = time.time()\r\n",
    "    cpu_core_num = multiprocessing.cpu_count()\r\n",
    "    thread_num = cpu_core_num - 2\r\n",
    "    # thread_num = 1\r\n",
    "    stock_list = gm.get_all_stockcode_by_mongo()\r\n",
    "    stock_num = stock_list.shape[0] \r\n",
    "    epoch_num = math.floor(stock_num/thread_num)\r\n",
    "\r\n",
    "    print(f\"Stock:{stock_list.shape[0]}\")\r\n",
    "    print(f\"建立了一个 {thread_num} 容量的进程池\")\r\n",
    "\r\n",
    "    p = multiprocessing.Pool(thread_num)\r\n",
    "    check_done_stock_queue = multiprocessing.Manager().Queue()\r\n",
    "    signal_queue = multiprocessing.Manager().Queue()\r\n",
    "    bull_queue = multiprocessing.Manager().Queue()\r\n",
    "    bear_queue = multiprocessing.Manager().Queue()\r\n",
    "    signal_period = 4\r\n",
    "    observe_period = 4\r\n",
    "    rate = .5\r\n",
    "\r\n",
    "\r\n",
    "    for i,r in stock_list.iterrows():\r\n",
    "        data = r[\"code\"]\r\n",
    "        p.apply_async(\r\n",
    "            check,\r\n",
    "            args=(\r\n",
    "                check_done_stock_queue,\r\n",
    "                signal_queue,\r\n",
    "                bull_queue,\r\n",
    "                bear_queue,\r\n",
    "                signal_period,\r\n",
    "                observe_period,\r\n",
    "                data,\r\n",
    "                rate\r\n",
    "                ),\r\n",
    "            callback=p_update,\r\n",
    "        )\r\n",
    "\r\n",
    "    print(\"Waiting for all subprocesses done...\")\r\n",
    "    p.close()\r\n",
    "    p.join()\r\n",
    "    end = time.time()\r\n",
    "    print(\"All Daybar subprocesses done. Tasks runs %0.2f seconds.\" % (end - start))"
   ],
   "outputs": [
    {
     "output_type": "stream",
     "name": "stdout",
     "text": [
      "Main Process 20320..\n",
      "Stock:4946\n",
      "建立了一个 14 容量的进程池\n",
      "Waiting for all subprocesses done...\n"
     ]
    }
   ],
   "metadata": {}
  }
 ],
 "metadata": {
  "orig_nbformat": 4,
  "language_info": {
   "name": "python",
   "version": "3.9.6",
   "mimetype": "text/x-python",
   "codemirror_mode": {
    "name": "ipython",
    "version": 3
   },
   "pygments_lexer": "ipython3",
   "nbconvert_exporter": "python",
   "file_extension": ".py"
  },
  "kernelspec": {
   "name": "python3",
   "display_name": "Python 3.9.6 64-bit ('env': venv)"
  },
  "interpreter": {
   "hash": "93d8a1b7b0f66cd50d549eada7ce18d3fe684e582b8785cc35d7fea12e907a51"
  }
 },
 "nbformat": 4,
 "nbformat_minor": 2
}