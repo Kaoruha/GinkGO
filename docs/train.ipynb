{
 "cells": [
  {
   "cell_type": "markdown",
   "id": "a359b412-0cde-4316-a150-7c896a89119f",
   "metadata": {},
   "source": [
    "## 数据准备"
   ]
  },
  {
   "cell_type": "code",
   "execution_count": 1,
   "id": "95f1f575-cbe8-4b3b-8a41-7215fc837f7c",
   "metadata": {},
   "outputs": [],
   "source": [
    "from ginkgo.data import *"
   ]
  },
  {
   "cell_type": "code",
   "execution_count": 2,
   "id": "b6c03040-af11-447a-b8eb-a5df70d42f70",
   "metadata": {},
   "outputs": [
    {
     "name": "stdout",
     "output_type": "stream",
     "text": [
      "没有缓存，重新计算并缓存\n"
     ]
    },
    {
     "data": {
      "text/html": [
       "<pre style=\"white-space:pre;overflow-x:auto;line-height:normal;font-family:Menlo,'DejaVu Sans Mono',consolas,'Courier New',monospace\">🗿 <span style=\"color: #008000; text-decoration-color: #008000; font-weight: bold\">Got </span><span style=\"color: #008000; text-decoration-color: #008000; font-weight: bold\">5375</span><span style=\"color: #008000; text-decoration-color: #008000; font-weight: bold\"> records about StockInfo from mysql.</span>\n",
       "</pre>\n"
      ],
      "text/plain": [
       "🗿 \u001b[1;32mGot \u001b[0m\u001b[1;32m5375\u001b[0m\u001b[1;32m records about StockInfo from mysql.\u001b[0m\n"
      ]
     },
     "metadata": {},
     "output_type": "display_data"
    }
   ],
   "source": [
    "stock_list = get_stockinfos()"
   ]
  },
  {
   "cell_type": "code",
   "execution_count": 3,
   "id": "cd1c170f-5043-4ff6-8721-020123d2fbba",
   "metadata": {},
   "outputs": [
    {
     "data": {
      "text/html": [
       "<div>\n",
       "<style scoped>\n",
       "    .dataframe tbody tr th:only-of-type {\n",
       "        vertical-align: middle;\n",
       "    }\n",
       "\n",
       "    .dataframe tbody tr th {\n",
       "        vertical-align: top;\n",
       "    }\n",
       "\n",
       "    .dataframe thead th {\n",
       "        text-align: right;\n",
       "    }\n",
       "</style>\n",
       "<table border=\"1\" class=\"dataframe\">\n",
       "  <thead>\n",
       "    <tr style=\"text-align: right;\">\n",
       "      <th></th>\n",
       "      <th>code</th>\n",
       "      <th>code_name</th>\n",
       "      <th>industry</th>\n",
       "      <th>currency</th>\n",
       "      <th>market</th>\n",
       "      <th>list_date</th>\n",
       "      <th>delist_date</th>\n",
       "      <th>uuid</th>\n",
       "      <th>meta</th>\n",
       "      <th>desc</th>\n",
       "      <th>create_at</th>\n",
       "      <th>update_at</th>\n",
       "      <th>is_del</th>\n",
       "      <th>source</th>\n",
       "    </tr>\n",
       "  </thead>\n",
       "  <tbody>\n",
       "    <tr>\n",
       "      <th>268</th>\n",
       "      <td>000002.SZ</td>\n",
       "      <td>万科A</td>\n",
       "      <td>全国地产</td>\n",
       "      <td>CURRENCY_TYPES.CNY</td>\n",
       "      <td>MARKET_TYPES.CHINA</td>\n",
       "      <td>1991-01-29</td>\n",
       "      <td>2100-01-01</td>\n",
       "      <td>0dd3cddd92c246698ed3f6aa5b1521f0</td>\n",
       "      <td>{}</td>\n",
       "      <td>This man is lazy, there is no description.</td>\n",
       "      <td>2024-12-04 17:33:10</td>\n",
       "      <td>2024-12-09 00:17:25</td>\n",
       "      <td>False</td>\n",
       "      <td>SOURCE_TYPES.TUSHARE</td>\n",
       "    </tr>\n",
       "  </tbody>\n",
       "</table>\n",
       "</div>"
      ],
      "text/plain": [
       "          code code_name industry            currency              market  \\\n",
       "268  000002.SZ       万科A     全国地产  CURRENCY_TYPES.CNY  MARKET_TYPES.CHINA   \n",
       "\n",
       "     list_date delist_date                              uuid meta  \\\n",
       "268 1991-01-29  2100-01-01  0dd3cddd92c246698ed3f6aa5b1521f0   {}   \n",
       "\n",
       "                                           desc           create_at  \\\n",
       "268  This man is lazy, there is no description. 2024-12-04 17:33:10   \n",
       "\n",
       "              update_at  is_del                source  \n",
       "268 2024-12-09 00:17:25   False  SOURCE_TYPES.TUSHARE  "
      ]
     },
     "metadata": {},
     "output_type": "display_data"
    }
   ],
   "source": [
    "stock_code = \"000002.SZ\"\n",
    "stock_info = stock_list[stock_list[\"code\"]==stock_code]\n",
    "display(stock_info)"
   ]
  },
  {
   "cell_type": "markdown",
   "id": "459b82cd-a4d8-450e-b45e-f029301e9849",
   "metadata": {},
   "source": [
    "### 数据跨度"
   ]
  },
  {
   "cell_type": "code",
   "execution_count": 4,
   "id": "f86ba8c8-4a8f-42d8-88c4-11e13de730ef",
   "metadata": {},
   "outputs": [],
   "source": [
    "start_date = \"2000-01-01\"\n",
    "end_date = \"2025-01-01\""
   ]
  },
  {
   "cell_type": "code",
   "execution_count": 5,
   "id": "e147e980-c530-4505-bd27-2d5f77a99867",
   "metadata": {
    "scrolled": true
   },
   "outputs": [
    {
     "data": {
      "text/html": [
       "<div>\n",
       "<style scoped>\n",
       "    .dataframe tbody tr th:only-of-type {\n",
       "        vertical-align: middle;\n",
       "    }\n",
       "\n",
       "    .dataframe tbody tr th {\n",
       "        vertical-align: top;\n",
       "    }\n",
       "\n",
       "    .dataframe thead th {\n",
       "        text-align: right;\n",
       "    }\n",
       "</style>\n",
       "<table border=\"1\" class=\"dataframe\">\n",
       "  <thead>\n",
       "    <tr style=\"text-align: right;\">\n",
       "      <th></th>\n",
       "      <th>code</th>\n",
       "      <th>open</th>\n",
       "      <th>high</th>\n",
       "      <th>low</th>\n",
       "      <th>close</th>\n",
       "      <th>volume</th>\n",
       "      <th>amount</th>\n",
       "      <th>frequency</th>\n",
       "      <th>uuid</th>\n",
       "      <th>meta</th>\n",
       "      <th>desc</th>\n",
       "      <th>timestamp</th>\n",
       "      <th>source</th>\n",
       "    </tr>\n",
       "  </thead>\n",
       "  <tbody>\n",
       "    <tr>\n",
       "      <th>0</th>\n",
       "      <td>000002.SZ</td>\n",
       "      <td>9.80</td>\n",
       "      <td>10.40</td>\n",
       "      <td>9.6</td>\n",
       "      <td>10.30</td>\n",
       "      <td>45747</td>\n",
       "      <td>46053.45</td>\n",
       "      <td>FREQUENCY_TYPES.DAY</td>\n",
       "      <td>4413c7238c5a44d08061fea0852f2369</td>\n",
       "      <td>{}\u0000\u0000\u0000\u0000\u0000\u0000\u0000\u0000\u0000\u0000\u0000\u0000\u0000\u0000\u0000\u0000\u0000\u0000\u0000\u0000\u0000\u0000\u0000\u0000\u0000\u0000\u0000\u0000\u0000\u0000\u0000\u0000\u0000\u0000\u0000\u0000\u0000\u0000\u0000\u0000\u0000\u0000\u0000\u0000...</td>\n",
       "      <td>This man is lazy, there is no description.\u0000\u0000\u0000\u0000...</td>\n",
       "      <td>2000-01-04</td>\n",
       "      <td>SOURCE_TYPES.DATABASE</td>\n",
       "    </tr>\n",
       "    <tr>\n",
       "      <th>1</th>\n",
       "      <td>000002.SZ</td>\n",
       "      <td>10.35</td>\n",
       "      <td>10.45</td>\n",
       "      <td>10.0</td>\n",
       "      <td>10.04</td>\n",
       "      <td>46137</td>\n",
       "      <td>47348.00</td>\n",
       "      <td>FREQUENCY_TYPES.DAY</td>\n",
       "      <td>a4ecc6096037411281e04e2a5db1dafa</td>\n",
       "      <td>{}\u0000\u0000\u0000\u0000\u0000\u0000\u0000\u0000\u0000\u0000\u0000\u0000\u0000\u0000\u0000\u0000\u0000\u0000\u0000\u0000\u0000\u0000\u0000\u0000\u0000\u0000\u0000\u0000\u0000\u0000\u0000\u0000\u0000\u0000\u0000\u0000\u0000\u0000\u0000\u0000\u0000\u0000\u0000\u0000...</td>\n",
       "      <td>This man is lazy, there is no description.\u0000\u0000\u0000\u0000...</td>\n",
       "      <td>2000-01-05</td>\n",
       "      <td>SOURCE_TYPES.DATABASE</td>\n",
       "    </tr>\n",
       "  </tbody>\n",
       "</table>\n",
       "</div>"
      ],
      "text/plain": [
       "        code   open   high   low  close  volume    amount  \\\n",
       "0  000002.SZ   9.80  10.40   9.6  10.30   45747  46053.45   \n",
       "1  000002.SZ  10.35  10.45  10.0  10.04   46137  47348.00   \n",
       "\n",
       "             frequency                              uuid  \\\n",
       "0  FREQUENCY_TYPES.DAY  4413c7238c5a44d08061fea0852f2369   \n",
       "1  FREQUENCY_TYPES.DAY  a4ecc6096037411281e04e2a5db1dafa   \n",
       "\n",
       "                                                meta  \\\n",
       "0  {}\u0000\u0000\u0000\u0000\u0000\u0000\u0000\u0000\u0000\u0000\u0000\u0000\u0000\u0000\u0000\u0000\u0000\u0000\u0000\u0000\u0000\u0000\u0000\u0000\u0000\u0000\u0000\u0000\u0000\u0000\u0000\u0000\u0000\u0000\u0000\u0000\u0000\u0000\u0000\u0000\u0000\u0000\u0000\u0000...   \n",
       "1  {}\u0000\u0000\u0000\u0000\u0000\u0000\u0000\u0000\u0000\u0000\u0000\u0000\u0000\u0000\u0000\u0000\u0000\u0000\u0000\u0000\u0000\u0000\u0000\u0000\u0000\u0000\u0000\u0000\u0000\u0000\u0000\u0000\u0000\u0000\u0000\u0000\u0000\u0000\u0000\u0000\u0000\u0000\u0000\u0000...   \n",
       "\n",
       "                                                desc  timestamp  \\\n",
       "0  This man is lazy, there is no description.\u0000\u0000\u0000\u0000... 2000-01-04   \n",
       "1  This man is lazy, there is no description.\u0000\u0000\u0000\u0000... 2000-01-05   \n",
       "\n",
       "                  source  \n",
       "0  SOURCE_TYPES.DATABASE  \n",
       "1  SOURCE_TYPES.DATABASE  "
      ]
     },
     "metadata": {},
     "output_type": "display_data"
    },
    {
     "data": {
      "text/html": [
       "<div>\n",
       "<style scoped>\n",
       "    .dataframe tbody tr th:only-of-type {\n",
       "        vertical-align: middle;\n",
       "    }\n",
       "\n",
       "    .dataframe tbody tr th {\n",
       "        vertical-align: top;\n",
       "    }\n",
       "\n",
       "    .dataframe thead th {\n",
       "        text-align: right;\n",
       "    }\n",
       "</style>\n",
       "<table border=\"1\" class=\"dataframe\">\n",
       "  <thead>\n",
       "    <tr style=\"text-align: right;\">\n",
       "      <th></th>\n",
       "      <th>open</th>\n",
       "      <th>high</th>\n",
       "      <th>low</th>\n",
       "      <th>close</th>\n",
       "      <th>volume</th>\n",
       "      <th>amount</th>\n",
       "      <th>timestamp</th>\n",
       "    </tr>\n",
       "  </thead>\n",
       "  <tbody>\n",
       "    <tr>\n",
       "      <th>count</th>\n",
       "      <td>5845.000000</td>\n",
       "      <td>5845.000000</td>\n",
       "      <td>5845.000000</td>\n",
       "      <td>5845.000000</td>\n",
       "      <td>5.845000e+03</td>\n",
       "      <td>5.845000e+03</td>\n",
       "      <td>5845</td>\n",
       "    </tr>\n",
       "    <tr>\n",
       "      <th>mean</th>\n",
       "      <td>14.630479</td>\n",
       "      <td>14.906712</td>\n",
       "      <td>14.389321</td>\n",
       "      <td>14.647902</td>\n",
       "      <td>7.818154e+05</td>\n",
       "      <td>1.154262e+06</td>\n",
       "      <td>2012-07-08 08:42:32.335329536</td>\n",
       "    </tr>\n",
       "    <tr>\n",
       "      <th>min</th>\n",
       "      <td>3.140000</td>\n",
       "      <td>3.200000</td>\n",
       "      <td>3.120000</td>\n",
       "      <td>3.140000</td>\n",
       "      <td>2.334000e+03</td>\n",
       "      <td>2.566000e+03</td>\n",
       "      <td>2000-01-04 00:00:00</td>\n",
       "    </tr>\n",
       "    <tr>\n",
       "      <th>25%</th>\n",
       "      <td>8.250000</td>\n",
       "      <td>8.380000</td>\n",
       "      <td>8.140000</td>\n",
       "      <td>8.270000</td>\n",
       "      <td>2.467280e+05</td>\n",
       "      <td>2.164410e+05</td>\n",
       "      <td>2006-04-11 00:00:00</td>\n",
       "    </tr>\n",
       "    <tr>\n",
       "      <th>50%</th>\n",
       "      <td>12.300000</td>\n",
       "      <td>12.520000</td>\n",
       "      <td>12.100000</td>\n",
       "      <td>12.300000</td>\n",
       "      <td>5.767120e+05</td>\n",
       "      <td>7.976183e+05</td>\n",
       "      <td>2012-05-15 00:00:00</td>\n",
       "    </tr>\n",
       "    <tr>\n",
       "      <th>75%</th>\n",
       "      <td>20.430000</td>\n",
       "      <td>20.730000</td>\n",
       "      <td>20.110000</td>\n",
       "      <td>20.500000</td>\n",
       "      <td>9.688210e+05</td>\n",
       "      <td>1.593419e+06</td>\n",
       "      <td>2018-12-21 00:00:00</td>\n",
       "    </tr>\n",
       "    <tr>\n",
       "      <th>max</th>\n",
       "      <td>41.120000</td>\n",
       "      <td>42.240000</td>\n",
       "      <td>40.460000</td>\n",
       "      <td>41.130000</td>\n",
       "      <td>1.097234e+07</td>\n",
       "      <td>2.010649e+07</td>\n",
       "      <td>2024-12-31 00:00:00</td>\n",
       "    </tr>\n",
       "    <tr>\n",
       "      <th>std</th>\n",
       "      <td>8.082726</td>\n",
       "      <td>8.247040</td>\n",
       "      <td>7.942681</td>\n",
       "      <td>8.093063</td>\n",
       "      <td>8.785911e+05</td>\n",
       "      <td>1.327240e+06</td>\n",
       "      <td>NaN</td>\n",
       "    </tr>\n",
       "  </tbody>\n",
       "</table>\n",
       "</div>"
      ],
      "text/plain": [
       "              open         high          low        close        volume  \\\n",
       "count  5845.000000  5845.000000  5845.000000  5845.000000  5.845000e+03   \n",
       "mean     14.630479    14.906712    14.389321    14.647902  7.818154e+05   \n",
       "min       3.140000     3.200000     3.120000     3.140000  2.334000e+03   \n",
       "25%       8.250000     8.380000     8.140000     8.270000  2.467280e+05   \n",
       "50%      12.300000    12.520000    12.100000    12.300000  5.767120e+05   \n",
       "75%      20.430000    20.730000    20.110000    20.500000  9.688210e+05   \n",
       "max      41.120000    42.240000    40.460000    41.130000  1.097234e+07   \n",
       "std       8.082726     8.247040     7.942681     8.093063  8.785911e+05   \n",
       "\n",
       "             amount                      timestamp  \n",
       "count  5.845000e+03                           5845  \n",
       "mean   1.154262e+06  2012-07-08 08:42:32.335329536  \n",
       "min    2.566000e+03            2000-01-04 00:00:00  \n",
       "25%    2.164410e+05            2006-04-11 00:00:00  \n",
       "50%    7.976183e+05            2012-05-15 00:00:00  \n",
       "75%    1.593419e+06            2018-12-21 00:00:00  \n",
       "max    2.010649e+07            2024-12-31 00:00:00  \n",
       "std    1.327240e+06                            NaN  "
      ]
     },
     "execution_count": 5,
     "metadata": {},
     "output_type": "execute_result"
    }
   ],
   "source": [
    "bar_data_raw = get_bars(code=stock_code, start_date=start_date, end_date=end_date, as_dataframe=True)\n",
    "display(bar_data_raw.head(2))\n",
    "bar_data_raw.describe()"
   ]
  },
  {
   "cell_type": "code",
   "execution_count": 6,
   "id": "9ab4446b-b1cb-47db-8d66-68b342e392c0",
   "metadata": {},
   "outputs": [
    {
     "data": {
      "text/plain": [
       "code         0\n",
       "open         0\n",
       "high         0\n",
       "low          0\n",
       "close        0\n",
       "volume       0\n",
       "amount       0\n",
       "frequency    0\n",
       "uuid         0\n",
       "meta         0\n",
       "desc         0\n",
       "timestamp    0\n",
       "source       0\n",
       "dtype: int64"
      ]
     },
     "execution_count": 6,
     "metadata": {},
     "output_type": "execute_result"
    }
   ],
   "source": [
    "bar_data_raw.isnull().sum()"
   ]
  },
  {
   "cell_type": "markdown",
   "id": "552dc46c-3ec8-45ce-b3ec-af4e2ed08a35",
   "metadata": {},
   "source": [
    "### 数据清洗"
   ]
  },
  {
   "cell_type": "code",
   "execution_count": 7,
   "id": "eec97f1d-8d32-4d1a-a0cb-732344121d04",
   "metadata": {},
   "outputs": [],
   "source": [
    "# Clean abnormal open\n",
    "bar_data_raw = bar_data_raw[bar_data_raw['open'] > 0]"
   ]
  },
  {
   "cell_type": "code",
   "execution_count": 8,
   "id": "83797197-4515-40e1-adc7-ffefdb359f4c",
   "metadata": {},
   "outputs": [],
   "source": [
    "# Clean abnormal high\n",
    "bar_data_raw = bar_data_raw[bar_data_raw['high'] > 0]"
   ]
  },
  {
   "cell_type": "code",
   "execution_count": 9,
   "id": "62858740-5d91-4246-9936-dcec7f00ca9d",
   "metadata": {},
   "outputs": [],
   "source": [
    "# Clean abnormal low\n",
    "bar_data_raw = bar_data_raw[bar_data_raw['low'] > 0]"
   ]
  },
  {
   "cell_type": "code",
   "execution_count": 10,
   "id": "6e64026c-b1e9-43d8-a466-e0a8c9b4988f",
   "metadata": {},
   "outputs": [],
   "source": [
    "# Clean abnormal close\n",
    "bar_data_raw = bar_data_raw[bar_data_raw['close'] > 0]"
   ]
  },
  {
   "cell_type": "code",
   "execution_count": 11,
   "id": "6ae66667-783d-40db-856e-02d5f102845e",
   "metadata": {},
   "outputs": [],
   "source": [
    "# Clean abnormal volume\n",
    "bar_data_raw = bar_data_raw[bar_data_raw['volume'] > 0]"
   ]
  },
  {
   "cell_type": "code",
   "execution_count": 12,
   "id": "9f85b238-8c99-47f4-8d79-108e375f57d9",
   "metadata": {},
   "outputs": [],
   "source": [
    "# Clean abnormal amount\n",
    "bar_data_raw = bar_data_raw[bar_data_raw['amount'] > 0]"
   ]
  },
  {
   "cell_type": "code",
   "execution_count": 13,
   "id": "3fe19188-13f8-474a-b7b8-91d050b6f9eb",
   "metadata": {},
   "outputs": [
    {
     "name": "stdout",
     "output_type": "stream",
     "text": [
      "Index(['code', 'open', 'high', 'low', 'close', 'volume', 'amount', 'frequency',\n",
      "       'uuid', 'meta', 'desc', 'timestamp', 'source'],\n",
      "      dtype='object')\n"
     ]
    }
   ],
   "source": [
    "print(bar_data_raw.columns)"
   ]
  },
  {
   "cell_type": "markdown",
   "id": "9cb3247a-46f8-4fff-a33f-516a7393ad9a",
   "metadata": {},
   "source": [
    "### 添加特征"
   ]
  },
  {
   "cell_type": "code",
   "execution_count": 14,
   "id": "10f5d4e4-61a7-4116-83a6-74dbd970e606",
   "metadata": {},
   "outputs": [
    {
     "data": {
      "text/html": [
       "<div>\n",
       "<style scoped>\n",
       "    .dataframe tbody tr th:only-of-type {\n",
       "        vertical-align: middle;\n",
       "    }\n",
       "\n",
       "    .dataframe tbody tr th {\n",
       "        vertical-align: top;\n",
       "    }\n",
       "\n",
       "    .dataframe thead th {\n",
       "        text-align: right;\n",
       "    }\n",
       "</style>\n",
       "<table border=\"1\" class=\"dataframe\">\n",
       "  <thead>\n",
       "    <tr style=\"text-align: right;\">\n",
       "      <th></th>\n",
       "      <th>open</th>\n",
       "      <th>high</th>\n",
       "      <th>low</th>\n",
       "      <th>close</th>\n",
       "      <th>volume</th>\n",
       "      <th>amount</th>\n",
       "      <th>timestamp</th>\n",
       "    </tr>\n",
       "  </thead>\n",
       "  <tbody>\n",
       "    <tr>\n",
       "      <th>count</th>\n",
       "      <td>5845.000000</td>\n",
       "      <td>5845.000000</td>\n",
       "      <td>5845.000000</td>\n",
       "      <td>5845.000000</td>\n",
       "      <td>5.845000e+03</td>\n",
       "      <td>5.845000e+03</td>\n",
       "      <td>5845</td>\n",
       "    </tr>\n",
       "    <tr>\n",
       "      <th>mean</th>\n",
       "      <td>14.630479</td>\n",
       "      <td>14.906712</td>\n",
       "      <td>14.389321</td>\n",
       "      <td>14.647902</td>\n",
       "      <td>7.818154e+05</td>\n",
       "      <td>1.154262e+06</td>\n",
       "      <td>2012-07-08 08:42:32.335329536</td>\n",
       "    </tr>\n",
       "    <tr>\n",
       "      <th>min</th>\n",
       "      <td>3.140000</td>\n",
       "      <td>3.200000</td>\n",
       "      <td>3.120000</td>\n",
       "      <td>3.140000</td>\n",
       "      <td>2.334000e+03</td>\n",
       "      <td>2.566000e+03</td>\n",
       "      <td>2000-01-04 00:00:00</td>\n",
       "    </tr>\n",
       "    <tr>\n",
       "      <th>25%</th>\n",
       "      <td>8.250000</td>\n",
       "      <td>8.380000</td>\n",
       "      <td>8.140000</td>\n",
       "      <td>8.270000</td>\n",
       "      <td>2.467280e+05</td>\n",
       "      <td>2.164410e+05</td>\n",
       "      <td>2006-04-11 00:00:00</td>\n",
       "    </tr>\n",
       "    <tr>\n",
       "      <th>50%</th>\n",
       "      <td>12.300000</td>\n",
       "      <td>12.520000</td>\n",
       "      <td>12.100000</td>\n",
       "      <td>12.300000</td>\n",
       "      <td>5.767120e+05</td>\n",
       "      <td>7.976183e+05</td>\n",
       "      <td>2012-05-15 00:00:00</td>\n",
       "    </tr>\n",
       "    <tr>\n",
       "      <th>75%</th>\n",
       "      <td>20.430000</td>\n",
       "      <td>20.730000</td>\n",
       "      <td>20.110000</td>\n",
       "      <td>20.500000</td>\n",
       "      <td>9.688210e+05</td>\n",
       "      <td>1.593419e+06</td>\n",
       "      <td>2018-12-21 00:00:00</td>\n",
       "    </tr>\n",
       "    <tr>\n",
       "      <th>max</th>\n",
       "      <td>41.120000</td>\n",
       "      <td>42.240000</td>\n",
       "      <td>40.460000</td>\n",
       "      <td>41.130000</td>\n",
       "      <td>1.097234e+07</td>\n",
       "      <td>2.010649e+07</td>\n",
       "      <td>2024-12-31 00:00:00</td>\n",
       "    </tr>\n",
       "    <tr>\n",
       "      <th>std</th>\n",
       "      <td>8.082726</td>\n",
       "      <td>8.247040</td>\n",
       "      <td>7.942681</td>\n",
       "      <td>8.093063</td>\n",
       "      <td>8.785911e+05</td>\n",
       "      <td>1.327240e+06</td>\n",
       "      <td>NaN</td>\n",
       "    </tr>\n",
       "  </tbody>\n",
       "</table>\n",
       "</div>"
      ],
      "text/plain": [
       "              open         high          low        close        volume  \\\n",
       "count  5845.000000  5845.000000  5845.000000  5845.000000  5.845000e+03   \n",
       "mean     14.630479    14.906712    14.389321    14.647902  7.818154e+05   \n",
       "min       3.140000     3.200000     3.120000     3.140000  2.334000e+03   \n",
       "25%       8.250000     8.380000     8.140000     8.270000  2.467280e+05   \n",
       "50%      12.300000    12.520000    12.100000    12.300000  5.767120e+05   \n",
       "75%      20.430000    20.730000    20.110000    20.500000  9.688210e+05   \n",
       "max      41.120000    42.240000    40.460000    41.130000  1.097234e+07   \n",
       "std       8.082726     8.247040     7.942681     8.093063  8.785911e+05   \n",
       "\n",
       "             amount                      timestamp  \n",
       "count  5.845000e+03                           5845  \n",
       "mean   1.154262e+06  2012-07-08 08:42:32.335329536  \n",
       "min    2.566000e+03            2000-01-04 00:00:00  \n",
       "25%    2.164410e+05            2006-04-11 00:00:00  \n",
       "50%    7.976183e+05            2012-05-15 00:00:00  \n",
       "75%    1.593419e+06            2018-12-21 00:00:00  \n",
       "max    2.010649e+07            2024-12-31 00:00:00  \n",
       "std    1.327240e+06                            NaN  "
      ]
     },
     "execution_count": 14,
     "metadata": {},
     "output_type": "execute_result"
    }
   ],
   "source": [
    "bar_data = bar_data_raw.copy()\n",
    "# remove null line\n",
    "bar_data = bar_data.dropna().reset_index(drop=True).copy()\n",
    "bar_data.describe()"
   ]
  },
  {
   "cell_type": "code",
   "execution_count": 15,
   "id": "44dcd226-7673-46e7-8fdb-59580eced9c1",
   "metadata": {},
   "outputs": [
    {
     "name": "stdout",
     "output_type": "stream",
     "text": [
      "Index(['open', 'high', 'low', 'close', 'volume', 'amount'], dtype='object')\n"
     ]
    }
   ],
   "source": [
    "# remove columns\n",
    "feature_columns = ['open', 'high', 'low', 'close', 'volume', 'amount']\n",
    "\n",
    "bar_data = bar_data_raw[feature_columns].copy()\n",
    "print(bar_data.columns)"
   ]
  },
  {
   "cell_type": "markdown",
   "id": "cb6662ba-d5a5-4837-b33f-9d5539bd7137",
   "metadata": {},
   "source": [
    "#### 预测目标"
   ]
  },
  {
   "cell_type": "code",
   "execution_count": 16,
   "id": "ab9fa318-a409-4fbe-bdcd-f5e4c5eb942e",
   "metadata": {},
   "outputs": [],
   "source": [
    "# add target, y in predict\n",
    "target_span = 5\n",
    "bar_data.loc[:, 'target'] = (bar_data['close'].shift(-target_span) - bar_data['close']) / bar_data['close']"
   ]
  },
  {
   "cell_type": "code",
   "execution_count": 17,
   "id": "bbbf7046-6882-4633-a9fa-9f49ee944440",
   "metadata": {},
   "outputs": [
    {
     "data": {
      "text/html": [
       "<div>\n",
       "<style scoped>\n",
       "    .dataframe tbody tr th:only-of-type {\n",
       "        vertical-align: middle;\n",
       "    }\n",
       "\n",
       "    .dataframe tbody tr th {\n",
       "        vertical-align: top;\n",
       "    }\n",
       "\n",
       "    .dataframe thead th {\n",
       "        text-align: right;\n",
       "    }\n",
       "</style>\n",
       "<table border=\"1\" class=\"dataframe\">\n",
       "  <thead>\n",
       "    <tr style=\"text-align: right;\">\n",
       "      <th></th>\n",
       "      <th>open</th>\n",
       "      <th>high</th>\n",
       "      <th>low</th>\n",
       "      <th>close</th>\n",
       "      <th>volume</th>\n",
       "      <th>amount</th>\n",
       "      <th>target</th>\n",
       "    </tr>\n",
       "  </thead>\n",
       "  <tbody>\n",
       "    <tr>\n",
       "      <th>0</th>\n",
       "      <td>9.80</td>\n",
       "      <td>10.40</td>\n",
       "      <td>9.60</td>\n",
       "      <td>10.30</td>\n",
       "      <td>45747</td>\n",
       "      <td>46053.45</td>\n",
       "      <td>0.052427</td>\n",
       "    </tr>\n",
       "    <tr>\n",
       "      <th>1</th>\n",
       "      <td>10.35</td>\n",
       "      <td>10.45</td>\n",
       "      <td>10.00</td>\n",
       "      <td>10.04</td>\n",
       "      <td>46137</td>\n",
       "      <td>47348.00</td>\n",
       "      <td>0.041833</td>\n",
       "    </tr>\n",
       "    <tr>\n",
       "      <th>2</th>\n",
       "      <td>10.00</td>\n",
       "      <td>10.60</td>\n",
       "      <td>9.85</td>\n",
       "      <td>10.51</td>\n",
       "      <td>71920</td>\n",
       "      <td>74244.34</td>\n",
       "      <td>-0.006660</td>\n",
       "    </tr>\n",
       "    <tr>\n",
       "      <th>3</th>\n",
       "      <td>10.58</td>\n",
       "      <td>11.00</td>\n",
       "      <td>10.46</td>\n",
       "      <td>10.99</td>\n",
       "      <td>136349</td>\n",
       "      <td>147505.74</td>\n",
       "      <td>-0.087352</td>\n",
       "    </tr>\n",
       "    <tr>\n",
       "      <th>4</th>\n",
       "      <td>10.68</td>\n",
       "      <td>11.44</td>\n",
       "      <td>10.55</td>\n",
       "      <td>11.44</td>\n",
       "      <td>142425</td>\n",
       "      <td>159259.05</td>\n",
       "      <td>-0.094406</td>\n",
       "    </tr>\n",
       "    <tr>\n",
       "      <th>...</th>\n",
       "      <td>...</td>\n",
       "      <td>...</td>\n",
       "      <td>...</td>\n",
       "      <td>...</td>\n",
       "      <td>...</td>\n",
       "      <td>...</td>\n",
       "      <td>...</td>\n",
       "    </tr>\n",
       "    <tr>\n",
       "      <th>5840</th>\n",
       "      <td>7.71</td>\n",
       "      <td>7.73</td>\n",
       "      <td>7.47</td>\n",
       "      <td>7.54</td>\n",
       "      <td>1517662</td>\n",
       "      <td>1146549.84</td>\n",
       "      <td>NaN</td>\n",
       "    </tr>\n",
       "    <tr>\n",
       "      <th>5841</th>\n",
       "      <td>7.50</td>\n",
       "      <td>7.56</td>\n",
       "      <td>7.48</td>\n",
       "      <td>7.51</td>\n",
       "      <td>710188</td>\n",
       "      <td>534064.46</td>\n",
       "      <td>NaN</td>\n",
       "    </tr>\n",
       "    <tr>\n",
       "      <th>5842</th>\n",
       "      <td>7.51</td>\n",
       "      <td>7.63</td>\n",
       "      <td>7.49</td>\n",
       "      <td>7.55</td>\n",
       "      <td>1004323</td>\n",
       "      <td>760189.35</td>\n",
       "      <td>NaN</td>\n",
       "    </tr>\n",
       "    <tr>\n",
       "      <th>5843</th>\n",
       "      <td>7.50</td>\n",
       "      <td>7.51</td>\n",
       "      <td>7.33</td>\n",
       "      <td>7.36</td>\n",
       "      <td>1338890</td>\n",
       "      <td>990277.59</td>\n",
       "      <td>NaN</td>\n",
       "    </tr>\n",
       "    <tr>\n",
       "      <th>5844</th>\n",
       "      <td>7.38</td>\n",
       "      <td>7.44</td>\n",
       "      <td>7.25</td>\n",
       "      <td>7.26</td>\n",
       "      <td>1007535</td>\n",
       "      <td>739446.79</td>\n",
       "      <td>NaN</td>\n",
       "    </tr>\n",
       "  </tbody>\n",
       "</table>\n",
       "<p>5845 rows × 7 columns</p>\n",
       "</div>"
      ],
      "text/plain": [
       "       open   high    low  close   volume      amount    target\n",
       "0      9.80  10.40   9.60  10.30    45747    46053.45  0.052427\n",
       "1     10.35  10.45  10.00  10.04    46137    47348.00  0.041833\n",
       "2     10.00  10.60   9.85  10.51    71920    74244.34 -0.006660\n",
       "3     10.58  11.00  10.46  10.99   136349   147505.74 -0.087352\n",
       "4     10.68  11.44  10.55  11.44   142425   159259.05 -0.094406\n",
       "...     ...    ...    ...    ...      ...         ...       ...\n",
       "5840   7.71   7.73   7.47   7.54  1517662  1146549.84       NaN\n",
       "5841   7.50   7.56   7.48   7.51   710188   534064.46       NaN\n",
       "5842   7.51   7.63   7.49   7.55  1004323   760189.35       NaN\n",
       "5843   7.50   7.51   7.33   7.36  1338890   990277.59       NaN\n",
       "5844   7.38   7.44   7.25   7.26  1007535   739446.79       NaN\n",
       "\n",
       "[5845 rows x 7 columns]"
      ]
     },
     "metadata": {},
     "output_type": "display_data"
    }
   ],
   "source": [
    "display(bar_data)"
   ]
  },
  {
   "cell_type": "markdown",
   "id": "d5817c3a-17af-48d9-842f-7fb75b21946e",
   "metadata": {},
   "source": [
    "#### 其他特征"
   ]
  },
  {
   "cell_type": "code",
   "execution_count": 18,
   "id": "92836807-0a51-448c-a18c-9c1ca29d3daa",
   "metadata": {},
   "outputs": [],
   "source": [
    "# 涨跌幅\n",
    "bar_data.loc[:, 'return_1d'] = (bar_data['close'] - bar_data['open'])/bar_data['open']"
   ]
  },
  {
   "cell_type": "code",
   "execution_count": 19,
   "id": "643a8e34-75ad-4580-8f7c-4d45c4727b9d",
   "metadata": {},
   "outputs": [],
   "source": [
    "# 高低价波动幅度\n",
    "bar_data.loc[:,'hl_range'] = (bar_data['high'] - bar_data['low'])/bar_data['low']"
   ]
  },
  {
   "cell_type": "code",
   "execution_count": 20,
   "id": "1323ccd5-c10c-47e2-925e-e91e5e061252",
   "metadata": {},
   "outputs": [],
   "source": [
    "# 收盘价相对最高最低值的位置\n",
    "bar_data.loc[:,'close_position'] = (bar_data['close'] - bar_data['low'])/(bar_data['high'] - bar_data['low'])"
   ]
  },
  {
   "cell_type": "code",
   "execution_count": 21,
   "id": "5bc62665-59f6-4272-bd66-e4a2b6296f91",
   "metadata": {},
   "outputs": [],
   "source": [
    "# 成交量变化率\n",
    "bar_data.loc[:,'volume_change'] = bar_data['volume'] / bar_data['volume'].shift(1) - 1"
   ]
  },
  {
   "cell_type": "code",
   "execution_count": 22,
   "id": "2df32896-e788-4f35-afe9-15ffe12d8f8b",
   "metadata": {},
   "outputs": [],
   "source": [
    "# 成交额变化率\n",
    "bar_data.loc[:,'amount_change'] = bar_data['amount'] / bar_data['amount'].shift(1) - 1"
   ]
  },
  {
   "cell_type": "code",
   "execution_count": 23,
   "id": "192f84e3-977e-485d-8e29-5d6275baabc5",
   "metadata": {},
   "outputs": [],
   "source": [
    "# 成交量均值\n",
    "volume_spans = [2,3,4,5,6,7,8,9, 10, 15, 18,20]\n",
    "for i in volume_spans:\n",
    "    bar_data.loc[:,f'volume_ma{i}'] = bar_data['volume'].rolling(window=i).mean()"
   ]
  },
  {
   "cell_type": "code",
   "execution_count": 24,
   "id": "cdced2c5-d75e-4977-a15a-7651288e264c",
   "metadata": {},
   "outputs": [],
   "source": [
    "# 波动率\n",
    "volatility_spans = [2,3,4,5,6,7,8,9, 10, 15, 18,20]\n",
    "for i in volatility_spans:\n",
    "    bar_data.loc[:,f'volatility_{i}d'] = bar_data['close'].rolling(window=i).std()"
   ]
  },
  {
   "cell_type": "code",
   "execution_count": 25,
   "id": "e8879e08-a8a5-424e-a8ac-40b166fb4b8a",
   "metadata": {},
   "outputs": [
    {
     "data": {
      "text/html": [
       "<div>\n",
       "<style scoped>\n",
       "    .dataframe tbody tr th:only-of-type {\n",
       "        vertical-align: middle;\n",
       "    }\n",
       "\n",
       "    .dataframe tbody tr th {\n",
       "        vertical-align: top;\n",
       "    }\n",
       "\n",
       "    .dataframe thead th {\n",
       "        text-align: right;\n",
       "    }\n",
       "</style>\n",
       "<table border=\"1\" class=\"dataframe\">\n",
       "  <thead>\n",
       "    <tr style=\"text-align: right;\">\n",
       "      <th></th>\n",
       "      <th>open</th>\n",
       "      <th>high</th>\n",
       "      <th>low</th>\n",
       "      <th>close</th>\n",
       "      <th>volume</th>\n",
       "      <th>amount</th>\n",
       "      <th>target</th>\n",
       "      <th>return_1d</th>\n",
       "      <th>hl_range</th>\n",
       "      <th>close_position</th>\n",
       "      <th>...</th>\n",
       "      <th>volatility_4d</th>\n",
       "      <th>volatility_5d</th>\n",
       "      <th>volatility_6d</th>\n",
       "      <th>volatility_7d</th>\n",
       "      <th>volatility_8d</th>\n",
       "      <th>volatility_9d</th>\n",
       "      <th>volatility_10d</th>\n",
       "      <th>volatility_15d</th>\n",
       "      <th>volatility_18d</th>\n",
       "      <th>volatility_20d</th>\n",
       "    </tr>\n",
       "  </thead>\n",
       "  <tbody>\n",
       "    <tr>\n",
       "      <th>count</th>\n",
       "      <td>5845.000000</td>\n",
       "      <td>5845.000000</td>\n",
       "      <td>5845.000000</td>\n",
       "      <td>5845.000000</td>\n",
       "      <td>5.845000e+03</td>\n",
       "      <td>5.845000e+03</td>\n",
       "      <td>5840.000000</td>\n",
       "      <td>5845.000000</td>\n",
       "      <td>5845.000000</td>\n",
       "      <td>5841.000000</td>\n",
       "      <td>...</td>\n",
       "      <td>5842.000000</td>\n",
       "      <td>5841.000000</td>\n",
       "      <td>5840.000000</td>\n",
       "      <td>5839.000000</td>\n",
       "      <td>5838.000000</td>\n",
       "      <td>5837.000000</td>\n",
       "      <td>5836.000000</td>\n",
       "      <td>5831.000000</td>\n",
       "      <td>5828.000000</td>\n",
       "      <td>5826.000000</td>\n",
       "    </tr>\n",
       "    <tr>\n",
       "      <th>mean</th>\n",
       "      <td>14.630479</td>\n",
       "      <td>14.906712</td>\n",
       "      <td>14.389321</td>\n",
       "      <td>14.647902</td>\n",
       "      <td>7.818154e+05</td>\n",
       "      <td>1.154262e+06</td>\n",
       "      <td>0.001816</td>\n",
       "      <td>0.001513</td>\n",
       "      <td>0.035668</td>\n",
       "      <td>0.480733</td>\n",
       "      <td>...</td>\n",
       "      <td>0.289422</td>\n",
       "      <td>0.323665</td>\n",
       "      <td>0.354339</td>\n",
       "      <td>0.382202</td>\n",
       "      <td>0.408060</td>\n",
       "      <td>0.432265</td>\n",
       "      <td>0.455111</td>\n",
       "      <td>0.554846</td>\n",
       "      <td>0.606710</td>\n",
       "      <td>0.638946</td>\n",
       "    </tr>\n",
       "    <tr>\n",
       "      <th>std</th>\n",
       "      <td>8.082726</td>\n",
       "      <td>8.247040</td>\n",
       "      <td>7.942681</td>\n",
       "      <td>8.093063</td>\n",
       "      <td>8.785911e+05</td>\n",
       "      <td>1.327240e+06</td>\n",
       "      <td>0.063681</td>\n",
       "      <td>0.023614</td>\n",
       "      <td>0.021243</td>\n",
       "      <td>0.288822</td>\n",
       "      <td>...</td>\n",
       "      <td>0.323005</td>\n",
       "      <td>0.347751</td>\n",
       "      <td>0.371565</td>\n",
       "      <td>0.394152</td>\n",
       "      <td>0.415323</td>\n",
       "      <td>0.435234</td>\n",
       "      <td>0.454029</td>\n",
       "      <td>0.534743</td>\n",
       "      <td>0.575553</td>\n",
       "      <td>0.600481</td>\n",
       "    </tr>\n",
       "    <tr>\n",
       "      <th>min</th>\n",
       "      <td>3.140000</td>\n",
       "      <td>3.200000</td>\n",
       "      <td>3.120000</td>\n",
       "      <td>3.140000</td>\n",
       "      <td>2.334000e+03</td>\n",
       "      <td>2.566000e+03</td>\n",
       "      <td>-0.512391</td>\n",
       "      <td>-0.126697</td>\n",
       "      <td>0.000000</td>\n",
       "      <td>0.000000</td>\n",
       "      <td>...</td>\n",
       "      <td>0.005000</td>\n",
       "      <td>0.005477</td>\n",
       "      <td>0.008367</td>\n",
       "      <td>0.019024</td>\n",
       "      <td>0.025495</td>\n",
       "      <td>0.030732</td>\n",
       "      <td>0.030912</td>\n",
       "      <td>0.038073</td>\n",
       "      <td>0.045532</td>\n",
       "      <td>0.057956</td>\n",
       "    </tr>\n",
       "    <tr>\n",
       "      <th>25%</th>\n",
       "      <td>8.250000</td>\n",
       "      <td>8.380000</td>\n",
       "      <td>8.140000</td>\n",
       "      <td>8.270000</td>\n",
       "      <td>2.467280e+05</td>\n",
       "      <td>2.164410e+05</td>\n",
       "      <td>-0.030495</td>\n",
       "      <td>-0.011579</td>\n",
       "      <td>0.020927</td>\n",
       "      <td>0.228571</td>\n",
       "      <td>...</td>\n",
       "      <td>0.104243</td>\n",
       "      <td>0.120955</td>\n",
       "      <td>0.134052</td>\n",
       "      <td>0.144272</td>\n",
       "      <td>0.153791</td>\n",
       "      <td>0.163018</td>\n",
       "      <td>0.171468</td>\n",
       "      <td>0.216470</td>\n",
       "      <td>0.238189</td>\n",
       "      <td>0.253963</td>\n",
       "    </tr>\n",
       "    <tr>\n",
       "      <th>50%</th>\n",
       "      <td>12.300000</td>\n",
       "      <td>12.520000</td>\n",
       "      <td>12.100000</td>\n",
       "      <td>12.300000</td>\n",
       "      <td>5.767120e+05</td>\n",
       "      <td>7.976183e+05</td>\n",
       "      <td>-0.000865</td>\n",
       "      <td>0.000000</td>\n",
       "      <td>0.030053</td>\n",
       "      <td>0.466667</td>\n",
       "      <td>...</td>\n",
       "      <td>0.182289</td>\n",
       "      <td>0.205353</td>\n",
       "      <td>0.229438</td>\n",
       "      <td>0.250590</td>\n",
       "      <td>0.269596</td>\n",
       "      <td>0.284639</td>\n",
       "      <td>0.305123</td>\n",
       "      <td>0.361384</td>\n",
       "      <td>0.400521</td>\n",
       "      <td>0.425503</td>\n",
       "    </tr>\n",
       "    <tr>\n",
       "      <th>75%</th>\n",
       "      <td>20.430000</td>\n",
       "      <td>20.730000</td>\n",
       "      <td>20.110000</td>\n",
       "      <td>20.500000</td>\n",
       "      <td>9.688210e+05</td>\n",
       "      <td>1.593419e+06</td>\n",
       "      <td>0.031368</td>\n",
       "      <td>0.012472</td>\n",
       "      <td>0.044340</td>\n",
       "      <td>0.723502</td>\n",
       "      <td>...</td>\n",
       "      <td>0.357395</td>\n",
       "      <td>0.397718</td>\n",
       "      <td>0.435438</td>\n",
       "      <td>0.461321</td>\n",
       "      <td>0.497334</td>\n",
       "      <td>0.532512</td>\n",
       "      <td>0.566595</td>\n",
       "      <td>0.689689</td>\n",
       "      <td>0.771312</td>\n",
       "      <td>0.822983</td>\n",
       "    </tr>\n",
       "    <tr>\n",
       "      <th>max</th>\n",
       "      <td>41.120000</td>\n",
       "      <td>42.240000</td>\n",
       "      <td>40.460000</td>\n",
       "      <td>41.130000</td>\n",
       "      <td>1.097234e+07</td>\n",
       "      <td>2.010649e+07</td>\n",
       "      <td>0.457865</td>\n",
       "      <td>0.127204</td>\n",
       "      <td>0.201342</td>\n",
       "      <td>1.000000</td>\n",
       "      <td>...</td>\n",
       "      <td>4.302488</td>\n",
       "      <td>3.994650</td>\n",
       "      <td>3.823212</td>\n",
       "      <td>3.749633</td>\n",
       "      <td>3.910141</td>\n",
       "      <td>4.114000</td>\n",
       "      <td>4.351486</td>\n",
       "      <td>4.658534</td>\n",
       "      <td>4.708030</td>\n",
       "      <td>4.760656</td>\n",
       "    </tr>\n",
       "  </tbody>\n",
       "</table>\n",
       "<p>8 rows × 36 columns</p>\n",
       "</div>"
      ],
      "text/plain": [
       "              open         high          low        close        volume  \\\n",
       "count  5845.000000  5845.000000  5845.000000  5845.000000  5.845000e+03   \n",
       "mean     14.630479    14.906712    14.389321    14.647902  7.818154e+05   \n",
       "std       8.082726     8.247040     7.942681     8.093063  8.785911e+05   \n",
       "min       3.140000     3.200000     3.120000     3.140000  2.334000e+03   \n",
       "25%       8.250000     8.380000     8.140000     8.270000  2.467280e+05   \n",
       "50%      12.300000    12.520000    12.100000    12.300000  5.767120e+05   \n",
       "75%      20.430000    20.730000    20.110000    20.500000  9.688210e+05   \n",
       "max      41.120000    42.240000    40.460000    41.130000  1.097234e+07   \n",
       "\n",
       "             amount       target    return_1d     hl_range  close_position  \\\n",
       "count  5.845000e+03  5840.000000  5845.000000  5845.000000     5841.000000   \n",
       "mean   1.154262e+06     0.001816     0.001513     0.035668        0.480733   \n",
       "std    1.327240e+06     0.063681     0.023614     0.021243        0.288822   \n",
       "min    2.566000e+03    -0.512391    -0.126697     0.000000        0.000000   \n",
       "25%    2.164410e+05    -0.030495    -0.011579     0.020927        0.228571   \n",
       "50%    7.976183e+05    -0.000865     0.000000     0.030053        0.466667   \n",
       "75%    1.593419e+06     0.031368     0.012472     0.044340        0.723502   \n",
       "max    2.010649e+07     0.457865     0.127204     0.201342        1.000000   \n",
       "\n",
       "       ...  volatility_4d  volatility_5d  volatility_6d  volatility_7d  \\\n",
       "count  ...    5842.000000    5841.000000    5840.000000    5839.000000   \n",
       "mean   ...       0.289422       0.323665       0.354339       0.382202   \n",
       "std    ...       0.323005       0.347751       0.371565       0.394152   \n",
       "min    ...       0.005000       0.005477       0.008367       0.019024   \n",
       "25%    ...       0.104243       0.120955       0.134052       0.144272   \n",
       "50%    ...       0.182289       0.205353       0.229438       0.250590   \n",
       "75%    ...       0.357395       0.397718       0.435438       0.461321   \n",
       "max    ...       4.302488       3.994650       3.823212       3.749633   \n",
       "\n",
       "       volatility_8d  volatility_9d  volatility_10d  volatility_15d  \\\n",
       "count    5838.000000    5837.000000     5836.000000     5831.000000   \n",
       "mean        0.408060       0.432265        0.455111        0.554846   \n",
       "std         0.415323       0.435234        0.454029        0.534743   \n",
       "min         0.025495       0.030732        0.030912        0.038073   \n",
       "25%         0.153791       0.163018        0.171468        0.216470   \n",
       "50%         0.269596       0.284639        0.305123        0.361384   \n",
       "75%         0.497334       0.532512        0.566595        0.689689   \n",
       "max         3.910141       4.114000        4.351486        4.658534   \n",
       "\n",
       "       volatility_18d  volatility_20d  \n",
       "count     5828.000000     5826.000000  \n",
       "mean         0.606710        0.638946  \n",
       "std          0.575553        0.600481  \n",
       "min          0.045532        0.057956  \n",
       "25%          0.238189        0.253963  \n",
       "50%          0.400521        0.425503  \n",
       "75%          0.771312        0.822983  \n",
       "max          4.708030        4.760656  \n",
       "\n",
       "[8 rows x 36 columns]"
      ]
     },
     "execution_count": 25,
     "metadata": {},
     "output_type": "execute_result"
    }
   ],
   "source": [
    "bar_data.describe()"
   ]
  },
  {
   "cell_type": "code",
   "execution_count": 26,
   "id": "d93294f7-600a-46f6-8343-35725f1ac955",
   "metadata": {},
   "outputs": [
    {
     "name": "stdout",
     "output_type": "stream",
     "text": [
      "Index(['open', 'high', 'low', 'close', 'volume', 'amount', 'target',\n",
      "       'return_1d', 'hl_range', 'close_position', 'volume_change',\n",
      "       'amount_change', 'volume_ma2', 'volume_ma3', 'volume_ma4', 'volume_ma5',\n",
      "       'volume_ma6', 'volume_ma7', 'volume_ma8', 'volume_ma9', 'volume_ma10',\n",
      "       'volume_ma15', 'volume_ma18', 'volume_ma20', 'volatility_2d',\n",
      "       'volatility_3d', 'volatility_4d', 'volatility_5d', 'volatility_6d',\n",
      "       'volatility_7d', 'volatility_8d', 'volatility_9d', 'volatility_10d',\n",
      "       'volatility_15d', 'volatility_18d', 'volatility_20d'],\n",
      "      dtype='object')\n"
     ]
    }
   ],
   "source": [
    "print(bar_data.columns)"
   ]
  },
  {
   "cell_type": "markdown",
   "id": "115a29b6-eae2-4ad6-af73-d456ac7bbd26",
   "metadata": {},
   "source": [
    "#### 移出缺失值"
   ]
  },
  {
   "cell_type": "code",
   "execution_count": 27,
   "id": "cebc29b8-4fa3-4db9-a5cf-99b564a0d650",
   "metadata": {},
   "outputs": [],
   "source": [
    "bar_data = bar_data.dropna().reset_index(drop=True).copy()"
   ]
  },
  {
   "cell_type": "markdown",
   "id": "936d270b-06ec-4c04-8615-b696021a3730",
   "metadata": {},
   "source": [
    "## 训练集划分"
   ]
  },
  {
   "cell_type": "code",
   "execution_count": 28,
   "id": "ccb3568b-5f85-48e0-afdc-e02afe48c710",
   "metadata": {},
   "outputs": [],
   "source": [
    "from sklearn.model_selection import train_test_split\n",
    "y = bar_data['target'].copy()\n",
    "x = bar_data.drop(columns=['target']).copy()\n",
    "# 标准化\n",
    "def prepare_data():\n",
    "    x_train, x_test, y_train, y_test = train_test_split(x, y, test_size=0.2, shuffle=True, random_state=42)\n",
    "    from sklearn.preprocessing import StandardScaler\n",
    "    scaler = StandardScaler()\n",
    "    x_train = scaler.fit_transform(x_train)\n",
    "    x_test = scaler.transform(x_test)\n",
    "    return x_train, x_test, y_train, y_test"
   ]
  },
  {
   "cell_type": "markdown",
   "id": "ce090c49-c053-443d-9cfe-6fd14acd9dc0",
   "metadata": {},
   "source": [
    "## 真实值与预测值评估方法"
   ]
  },
  {
   "cell_type": "code",
   "execution_count": 29,
   "id": "157f0d90-bfad-452c-ae85-e24a6c63440e",
   "metadata": {},
   "outputs": [],
   "source": [
    "import matplotlib.pyplot as plt\n",
    "\n",
    "def plot_scatter_with_line(y_test, y_test_pred):\n",
    "    plt.figure(figsize=(10, 5))\n",
    "    \n",
    "    # 绘制散点图\n",
    "    plt.scatter(y_test, y_test_pred, alpha=0.5, label=\"Truth : Predict\")\n",
    "    \n",
    "    # 绘制理想的 y=x 线\n",
    "    plt.plot([y_test.min(), y_test.max()], [y_test.min(), y_test.max()], color='red', linestyle='--')\n",
    "    \n",
    "    plt.xlabel(\"Truth\")\n",
    "    plt.ylabel(\"Predict\")\n",
    "    plt.legend()\n",
    "    plt.title(\"Result\")\n",
    "    plt.show()\n",
    "\n",
    "import seaborn as sns\n",
    "\n",
    "def plot_distribution(y_train, y_test_pred):\n",
    "    plt.figure(figsize=(10, 5))\n",
    "\n",
    "    # 查看真实值 y_train 的分布\n",
    "    sns.histplot(y_train, kde=True, label=\"y_train\", color='blue', alpha=0.5)\n",
    "\n",
    "    # 查看预测值 y_test_pred 的分布\n",
    "    sns.histplot(y_test_pred, kde=True, label=\"y_test_pred\", color='red', alpha=0.5)\n",
    "\n",
    "    plt.legend()\n",
    "    plt.title(\"Distribution of y_train vs y_test_pred\")\n",
    "    plt.show()"
   ]
  },
  {
   "cell_type": "markdown",
   "id": "a4fa84be-e91a-431e-9302-7d0cb4fa1489",
   "metadata": {},
   "source": [
    "## 线性回归"
   ]
  },
  {
   "cell_type": "code",
   "execution_count": 30,
   "id": "f4cd81a2-6c3b-4a0c-8c2e-cbb7e63d3ad2",
   "metadata": {},
   "outputs": [
    {
     "name": "stdout",
     "output_type": "stream",
     "text": [
      "训练集 MSE: 0.00403, R²: 0.01401\n",
      "测试集 MSE: 0.00380, R²: 0.00398\n"
     ]
    }
   ],
   "source": [
    "# 线性回归\n",
    "import numpy as np\n",
    "import pandas as pd\n",
    "import matplotlib.pyplot as plt\n",
    "\n",
    "\n",
    "from sklearn.linear_model import LinearRegression\n",
    "from sklearn.metrics import mean_squared_error, r2_score\n",
    "\n",
    "x_train, x_test, y_train, y_test = prepare_data()\n",
    "\n",
    "model = LinearRegression()\n",
    "model.fit(x_train, y_train)\n",
    "\n",
    "# 训练集预测\n",
    "y_train_pred = model.predict(x_train)\n",
    "\n",
    "# 测试集预测\n",
    "y_test_pred = model.predict(x_test)\n",
    "\n",
    "# 计算均方误差 (MSE)\n",
    "train_mse = mean_squared_error(y_train, y_train_pred)\n",
    "test_mse = mean_squared_error(y_test, y_test_pred)\n",
    "\n",
    "# 计算决定系数 (R²)\n",
    "train_r2 = r2_score(y_train, y_train_pred)\n",
    "test_r2 = r2_score(y_test, y_test_pred)\n",
    "\n",
    "print(f\"训练集 MSE: {train_mse:.5f}, R²: {train_r2:.5f}\")\n",
    "print(f\"测试集 MSE: {test_mse:.5f}, R²: {test_r2:.5f}\")"
   ]
  },
  {
   "cell_type": "code",
   "execution_count": 31,
   "id": "4e4ff0b7-b521-4935-9758-1db6628c2ad5",
   "metadata": {},
   "outputs": [
    {
     "data": {
      "image/png": "[encoded data removed]",
      "text/plain": [
       "<Figure size 1000x500 with 1 Axes>"
      ]
     },
     "metadata": {},
     "output_type": "display_data"
    },
    {
     "data": {
      "image/png": "[encoded data removed]",
      "text/plain": [
       "<Figure size 1000x500 with 1 Axes>"
      ]
     },
     "metadata": {},
     "output_type": "display_data"
    }
   ],
   "source": [
    "# 评估模型准确\n",
    "plot_scatter_with_line(y_test, y_test_pred)\n",
    "plot_distribution(y_train, y_test_pred)"
   ]
  },
  {
   "cell_type": "markdown",
   "id": "4b19012a-a20e-4c5e-ac4c-1e49e106dbca",
   "metadata": {},
   "source": [
    "## 决策树"
   ]
  },
  {
   "cell_type": "code",
   "execution_count": 32,
   "id": "c57effbb-1349-48b2-874a-83e03b644b77",
   "metadata": {},
   "outputs": [
    {
     "name": "stdout",
     "output_type": "stream",
     "text": [
      "训练集 MSE: 0.00187, R²: 0.54322\n",
      "测试集 MSE: 0.00408, R²: -0.07180\n"
     ]
    }
   ],
   "source": [
    "# 决策树\n",
    "from sklearn.tree import DecisionTreeRegressor\n",
    "from sklearn.metrics import mean_squared_error, r2_score\n",
    "\n",
    "\n",
    "x_train, x_test, y_train, y_test = prepare_data()\n",
    "# 初始化决策树回归模型\n",
    "model = DecisionTreeRegressor(max_depth=15, min_samples_split=10, min_samples_leaf=2, max_features='sqrt', random_state=42)\n",
    "\n",
    "# 训练模型\n",
    "model.fit(x_train, y_train)\n",
    "\n",
    "# 训练集预测\n",
    "y_train_pred = model.predict(x_train)\n",
    "\n",
    "# 测试集预测\n",
    "y_test_pred = model.predict(x_test)\n",
    "\n",
    "# 计算均方误差 (MSE)\n",
    "train_mse = mean_squared_error(y_train, y_train_pred)\n",
    "test_mse = mean_squared_error(y_test, y_test_pred)\n",
    "\n",
    "# 计算决定系数 (R²)\n",
    "train_r2 = r2_score(y_train, y_train_pred)\n",
    "test_r2 = r2_score(y_test, y_test_pred)\n",
    "\n",
    "print(f\"训练集 MSE: {train_mse:.5f}, R²: {train_r2:.5f}\")\n",
    "print(f\"测试集 MSE: {test_mse:.5f}, R²: {test_r2:.5f}\")"
   ]
  },
  {
   "cell_type": "code",
   "execution_count": 33,
   "id": "a17df2df-f83a-4204-b755-ae5501111808",
   "metadata": {},
   "outputs": [
    {
     "data": {
      "image/png": "[encoded data removed]",
      "text/plain": [
       "<Figure size 1000x500 with 1 Axes>"
      ]
     },
     "metadata": {},
     "output_type": "display_data"
    },
    {
     "data": {
      "image/png": "[encoded data removed]",
      "text/plain": [
       "<Figure size 1000x500 with 1 Axes>"
      ]
     },
     "metadata": {},
     "output_type": "display_data"
    }
   ],
   "source": [
    "plot_scatter_with_line(y_test, y_test_pred)\n",
    "plot_distribution(y_train, y_test_pred)"
   ]
  },
  {
   "cell_type": "markdown",
   "id": "04ed5e3b-51af-42b2-8cf5-338b2cf1c8f2",
   "metadata": {},
   "source": [
    "## 随机森林"
   ]
  },
  {
   "cell_type": "code",
   "execution_count": null,
   "id": "6299ae0c-7732-4d6d-9c36-376ae867af5d",
   "metadata": {},
   "outputs": [],
   "source": [
    "# 初始化随机森林回归模型\n",
    "from sklearn.ensemble import RandomForestRegressor\n",
    "from sklearn.model_selection import GridSearchCV\n",
    "\n",
    "# TODO 特征工程\n",
    "\n",
    "x_train, x_test, y_train, y_test = prepare_data()\n",
    "param_grid = {\n",
    "    'n_estimators': [100, 200, 300],        # 树的数量\n",
    "    'max_depth': [10, 15, 20],       # 最大深度\n",
    "    'min_samples_split': [5, 10, 20],       # 每个节点最小样本数\n",
    "    'min_samples_leaf': [2, 5, 10],         # 叶子节点最小样本数\n",
    "    'max_features': ['sqrt', 'log2'], # 每棵树使用的特征数\n",
    "}\n",
    "\n",
    "rf_model = RandomForestRegressor(random_state=42)\n",
    "# 使用GridSearchCV进行超参数搜索\n",
    "grid_search = GridSearchCV(estimator=rf_model, param_grid=param_grid, cv=5, n_jobs=-1, verbose=0, scoring='neg_mean_squared_error')\n",
    "# 训练模型\n",
    "grid_search.fit(x_train, y_train)\n",
    "print(f\"Best parameters: {grid_search.best_params_}\")\n",
    "\n",
    "best_rf_model = grid_search.best_estimator_"
   ]
  },
  {
   "cell_type": "code",
   "execution_count": null,
   "id": "eda803ef-2de4-4e4d-87d9-b92dc236ea67",
   "metadata": {},
   "outputs": [],
   "source": [
    "# 训练集预测\n",
    "y_train_pred = best_rf_model.predict(x_train)\n",
    "\n",
    "# 测试集预测\n",
    "y_test_pred = best_rf_model.predict(x_test)\n",
    "\n",
    "# 计算均方误差 (MSE)\n",
    "train_mse = mean_squared_error(y_train, y_train_pred)\n",
    "test_mse = mean_squared_error(y_test, y_test_pred)\n",
    "\n",
    "# 计算决定系数 (R²)\n",
    "train_r2 = r2_score(y_train, y_train_pred)\n",
    "test_r2 = r2_score(y_test, y_test_pred)\n",
    "\n",
    "print(f\"训练集 MSE: {train_mse:.5f}, R²: {train_r2:.5f}\")\n",
    "print(f\"测试集 MSE: {test_mse:.5f}, R²: {test_r2:.5f}\")\n",
    "plot_scatter_with_line(y_test, y_test_pred)\n",
    "plot_distribution(y_train, y_test_pred)"
   ]
  },
  {
   "cell_type": "markdown",
   "id": "51fc4ced-8566-4b47-8d2d-300953405cfd",
   "metadata": {},
   "source": [
    "## XGBoost"
   ]
  },
  {
   "cell_type": "code",
   "execution_count": null,
   "id": "fb08d1a6-83a6-403b-933b-188f7c988aa3",
   "metadata": {},
   "outputs": [],
   "source": [
    "from xgboost import XGBRegressor\n",
    "x_train, x_test, y_train, y_test = prepare_data()\n",
    "param_grid = {\n",
    "    'n_estimators': [i for i in range(0,300,20)],\n",
    "    'max_depth': [i for i in range(0,7,1)],\n",
    "    'learning_rate': [0.01, 0.05, 0.1],\n",
    "    'subsample': [0.6, 0.8, 1.0],\n",
    "    'colsample_bytree': [0.6, 0.8, 1.0],\n",
    "}\n",
    "xgb_model = XGBRegressor(objective=\"reg:squarederror\", random_state=42)\n",
    "\n",
    "grid_search = GridSearchCV(xgb_model, param_grid, cv=5, scoring='neg_mean_squared_error', n_jobs=-1, verbose=1)\n",
    "grid_search.fit(x_train, y_train)\n",
    "\n",
    "print(f\"Best parameters: {grid_search.best_params_}\")\n",
    "\n",
    "best_xgb_model = grid_search.best_estimator_"
   ]
  },
  {
   "cell_type": "code",
   "execution_count": null,
   "id": "e849ca7e-7b80-4bf1-b3fc-089e401330d5",
   "metadata": {},
   "outputs": [],
   "source": [
    "# 训练集预测\n",
    "y_train_pred = best_xgb_model.predict(x_train)\n",
    "\n",
    "# 测试集预测\n",
    "y_test_pred = best_xgb_model.predict(x_test)\n",
    "\n",
    "# 计算均方误差 (MSE)\n",
    "train_mse = mean_squared_error(y_train, y_train_pred)\n",
    "test_mse = mean_squared_error(y_test, y_test_pred)\n",
    "\n",
    "# 计算决定系数 (R²)\n",
    "train_r2 = r2_score(y_train, y_train_pred)\n",
    "test_r2 = r2_score(y_test, y_test_pred)\n",
    "\n",
    "print(f\"训练集 MSE: {train_mse:.5f}, R²: {train_r2:.5f}\")\n",
    "print(f\"测试集 MSE: {test_mse:.5f}, R²: {test_r2:.5f}\")\n",
    "plot_scatter_with_line(y_test, y_test_pred)\n",
    "plot_distribution(y_train, y_test_pred)"
   ]
  },
  {
   "cell_type": "markdown",
   "id": "1df24a85-e45e-4d7b-a330-be0b237124bd",
   "metadata": {},
   "source": [
    "## 神经网络"
   ]
  },
  {
   "cell_type": "code",
   "execution_count": null,
   "id": "9cfaf652-0674-4055-8650-cf682750fdc5",
   "metadata": {},
   "outputs": [],
   "source": [
    "import torch\n",
    "import torch.nn as nn\n",
    "import torch.optim as optim"
   ]
  },
  {
   "cell_type": "code",
   "execution_count": null,
   "id": "77a7eb56-1f84-4789-9141-60976c30e794",
   "metadata": {},
   "outputs": [],
   "source": [
    "# 定义神经网络类\n",
    "class SimpleNN(nn.Module):\n",
    "    def __init__(self):\n",
    "        super(SimpleNN, self).__init__()\n",
    "        # 定义网络层\n",
    "        self.fc1 = nn.Linear(x_train.shape[1] , 256)  # 输入层到隐藏层\n",
    "        self.fc2 = nn.Linear(256, 128)\n",
    "        self.fc3 = nn.Linear(128, 64)\n",
    "        self.fc4 = nn.Linear(64, 32)\n",
    "        self.fc5 = nn.Linear(32, 1)\n",
    "        self.relu = nn.ReLU()\n",
    "        self.dropout = nn.Dropout(0.2)  # 防止过拟合\n",
    "\n",
    "    def forward(self, x):\n",
    "        x = self.relu(self.fc1(x))\n",
    "        x = self.relu(self.fc2(x))\n",
    "        x = self.dropout(self.relu(self.fc3(x)))\n",
    "        x = self.relu(self.fc4(x))\n",
    "        x = self.fc5(x)\n",
    "        return x"
   ]
  },
  {
   "cell_type": "code",
   "execution_count": null,
   "id": "3792b4bb-34ac-42e7-ba3a-d7f133a15056",
   "metadata": {},
   "outputs": [],
   "source": [
    "# 初始化网络\n",
    "model = SimpleNN()\n",
    "print(model)"
   ]
  },
  {
   "cell_type": "code",
   "execution_count": null,
   "id": "39d034ec-de24-4cd7-9544-be0168628c53",
   "metadata": {},
   "outputs": [],
   "source": [
    "# 定义损失函数和优化器\n",
    "# criterion = nn.SmoothL1Loss()  # 假设是回归问题，使用均方误差损失\n",
    "\n",
    "def sharpe_ratio_loss(y_pred, y_true):\n",
    "    returns = y_pred - y_true\n",
    "    mean = returns.mean()\n",
    "    std = returns.std() + 1e-6\n",
    "    return -mean / std  # 负的 Sharpe Ratio，优化时最小化\n",
    "\n",
    "criterion = sharpe_ratio_loss\n",
    "\n",
    "optimizer = optim.AdamW(model.parameters(), lr=0.01, weight_decay=1e-4)"
   ]
  },
  {
   "cell_type": "code",
   "execution_count": null,
   "id": "d8bce443-a0ff-4db5-b39c-17f07e6aa80e",
   "metadata": {},
   "outputs": [],
   "source": [
    "x_train_tensor = torch.tensor(x_train, dtype=torch.float32)\n",
    "y_train_tensor = torch.tensor(y_train.to_numpy().reshape(-1, 1), dtype=torch.float32).view(-1, 1)\n",
    "x_test_tensor = torch.tensor(x_test, dtype=torch.float32)\n",
    "y_test_tensor = torch.tensor(y_test.to_numpy().reshape(-1, 1), dtype=torch.float32).view(-1, 1)"
   ]
  },
  {
   "cell_type": "code",
   "execution_count": null,
   "id": "24e474c8-8466-421e-a4e1-fdf44a1489e7",
   "metadata": {},
   "outputs": [],
   "source": [
    "# 导入必要的库\n",
    "import numpy as np\n",
    "import torch\n",
    "from torch.optim.lr_scheduler import ReduceLROnPlateau\n",
    "\n",
    "# 设置训练的轮次（epoch）\n",
    "epochs = 10000\n",
    "\n",
    "# 定义优化器\n",
    "optimizer = torch.optim.Adam(model.parameters(), lr=0.001)\n",
    "\n",
    "# 定义学习率衰减策略，每当验证损失没有改善时，减小学习率\n",
    "# scheduler = ReduceLROnPlateau(optimizer, 'min', patience=5, factor=0.1)\n",
    "scheduler = optim.lr_scheduler.StepLR(optimizer, step_size=500, gamma=0.5)  # 每 500 轮降低学习率\n",
    "\n",
    "# 早停参数\n",
    "patience = 10  # 当验证损失不再改善超过10轮时停止\n",
    "best_loss = np.inf\n",
    "epochs_without_improvement = 0\n",
    "\n",
    "# 设置训练的轮次（epoch）\n",
    "for epoch in range(epochs):\n",
    "    model.train()\n",
    "    # 1. 清零梯度\n",
    "    optimizer.zero_grad()\n",
    "    # 2. 前向传播：计算预测结果\n",
    "    outputs = model(x_train_tensor)\n",
    "    # 3. 计算损失\n",
    "    loss = criterion(outputs, y_train_tensor)\n",
    "    # 4. 后向传播：计算梯度\n",
    "    loss.backward()\n",
    "    # 5. 更新模型参数\n",
    "    optimizer.step()\n",
    "    # 6. 更新学习率（每个epoch后调用，但要用验证损失而非训练损失）\n",
    "    scheduler.step(loss)  # 需要传入验证损失来调整学习率\n",
    "    # 打印每隔一定轮次的损失值\n",
    "    if (epoch+1) % 10 == 0:\n",
    "        print(f'Epoch [{epoch+1}/{epochs}], Loss: {loss.item():.4f}')\n",
    "    # 检查是否需要早停\n",
    "    if loss.item() < best_loss:\n",
    "        best_loss = loss.item()\n",
    "        epochs_without_improvement = 0\n",
    "    else:\n",
    "        epochs_without_improvement += 1\n",
    "        if epochs_without_improvement >= patience:\n",
    "            print(f'Early stopping at epoch {epoch+1}')\n",
    "            break  # 提前结束训练\n",
    "torch.save(model.state_dict(), 'test_nn_model.pth')\n",
    "print(\"Model saved successfully.\")"
   ]
  },
  {
   "cell_type": "code",
   "execution_count": null,
   "id": "f3b6fe1a-6d7d-44ab-8277-91b8506f4a34",
   "metadata": {},
   "outputs": [],
   "source": [
    "# 假设你已经有了验证集的真实值和预测值\n",
    "val_model = SimpleNN()\n",
    "val_model.load_state_dict(torch.load('test_nn_model.pth'))\n",
    "val_model.eval()  # 评估模式\n",
    "with torch.no_grad():\n",
    "    # 在验证集上进行预测\n",
    "    y_val_pred = val_model(x_test_tensor)\n",
    "\n",
    "# 转换预测值为 NumPy 数组，便于绘图\n",
    "y_val_pred = y_val_pred.numpy()\n",
    "\n",
    "# 绘制散点图和分布图\n",
    "plot_scatter_with_line(y_test_tensor.numpy(), y_val_pred)\n",
    "plot_distribution(y_test_tensor.numpy(), y_val_pred)"
   ]
  },
  {
   "cell_type": "code",
   "execution_count": null,
   "id": "db98eab3-6a29-4c28-b090-d6bbd5465da2",
   "metadata": {
    "collapsed": true,
    "jupyter": {
     "outputs_hidden": true
    }
   },
   "outputs": [],
   "source": []
  }
 ],
 "metadata": {
  "kernelspec": {
   "display_name": "Python 3 (ipykernel)",
   "language": "python",
   "name": "python3"
  },
  "language_info": {
   "codemirror_mode": {
    "name": "ipython",
    "version": 3
   },
   "file_extension": ".py",
   "mimetype": "text/x-python",
   "name": "python",
   "nbconvert_exporter": "python",
   "pygments_lexer": "ipython3",
   "version": "3.12.8"
  }
 },
 "nbformat": 4,
 "nbformat_minor": 5
}
