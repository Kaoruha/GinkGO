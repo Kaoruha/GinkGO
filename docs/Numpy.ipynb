{
 "cells": [
  {
   "cell_type": "markdown",
   "metadata": {},
   "source": [
    "## numpy的运行效率巨高"
   ]
  },
  {
   "cell_type": "code",
   "execution_count": 3,
   "metadata": {},
   "outputs": [
    {
     "name": "stdout",
     "output_type": "stream",
     "text": [
      "2.66 ms ± 58.1 µs per loop (mean ± std. dev. of 7 runs, 100 loops each)\n"
     ]
    }
   ],
   "source": [
    "normal_list = range(10000)\n",
    "%timeit [i**2 for i in normal_list]"
   ]
  },
  {
   "cell_type": "code",
   "execution_count": 4,
   "metadata": {},
   "outputs": [
    {
     "name": "stdout",
     "output_type": "stream",
     "text": [
      "6.72 µs ± 202 ns per loop (mean ± std. dev. of 7 runs, 100000 loops each)\n"
     ]
    }
   ],
   "source": [
    "import numpy as np\n",
    "numpy_list = np.arange(10000)\n",
    "%timeit numpy_list**2"
   ]
  },
  {
   "cell_type": "markdown",
   "metadata": {},
   "source": [
    "## numpy的操作是针对各个元素的操作，普通list是整个列表"
   ]
  },
  {
   "cell_type": "code",
   "execution_count": 5,
   "metadata": {},
   "outputs": [
    {
     "name": "stdout",
     "output_type": "stream",
     "text": [
      "[3. 3. 3. 3. 3.]\n",
      "[1, 1, 1, 1, 1, 1, 1, 1, 1, 1, 1, 1, 1, 1, 1]\n"
     ]
    }
   ],
   "source": [
    "numpy_list = np.ones(5)*3\n",
    "print(numpy_list)\n",
    "normal_list = [1,1,1,1,1]*3\n",
    "print (normal_list)"
   ]
  },
  {
   "cell_type": "markdown",
   "metadata": {},
   "source": [
    "## 生成Numpy矩阵"
   ]
  },
  {
   "cell_type": "code",
   "execution_count": 6,
   "metadata": {},
   "outputs": [
    {
     "name": "stdout",
     "output_type": "stream",
     "text": [
      "(200, 504)\n",
      "[[ 1.912149   -1.52042359  0.65424242  0.30663493 -0.45930093  0.31043448\n",
      "   1.59412837 -0.74795386 -0.91766078  1.20069572]]\n"
     ]
    }
   ],
   "source": [
    "stock_count = 200\n",
    "view_days = 504\n",
    "stock_day_change = np.random.standard_normal((stock_count, view_days))\n",
    "print(stock_day_change.shape)\n",
    "print(stock_day_change[0:1,:10])"
   ]
  },
  {
   "cell_type": "markdown",
   "metadata": {},
   "source": [
    "# np.around(nplist)\n",
    "显示小数点后两位"
   ]
  },
  {
   "cell_type": "code",
   "execution_count": 7,
   "metadata": {},
   "outputs": [
    {
     "data": {
      "text/plain": [
       "array([[ 1.91, -1.52,  0.65,  0.31, -0.46],\n",
       "       [ 1.32,  1.06, -0.48, -1.05,  0.18]])"
      ]
     },
     "execution_count": 7,
     "metadata": {},
     "output_type": "execute_result"
    }
   ],
   "source": [
    "np.around(stock_day_change[0:2,:5], 2)"
   ]
  },
  {
   "cell_type": "code",
   "execution_count": 8,
   "metadata": {},
   "outputs": [
    {
     "name": "stdout",
     "output_type": "stream",
     "text": [
      "[[        nan         nan  0.65424242  0.30663493 -0.45930093]\n",
      " [ 1.32365634  1.06084251 -0.48198367 -1.05260576  0.175686  ]]\n"
     ]
    }
   ],
   "source": [
    "temp_list = stock_day_change[0:2,:5].copy()\n",
    "temp_list[0][0] = np.nan\n",
    "temp_list[0,1] = np.nan\n",
    "print(temp_list)"
   ]
  },
  {
   "cell_type": "markdown",
   "metadata": {},
   "source": [
    "# 用nan_to_num处理nan缺省值"
   ]
  },
  {
   "cell_type": "code",
   "execution_count": 9,
   "metadata": {},
   "outputs": [
    {
     "name": "stdout",
     "output_type": "stream",
     "text": [
      "[[ 0.          0.          0.65424242  0.30663493 -0.45930093]\n",
      " [ 1.32365634  1.06084251 -0.48198367 -1.05260576  0.175686  ]]\n"
     ]
    }
   ],
   "source": [
    "temp_list = np.nan_to_num(temp_list)\n",
    "print(temp_list)"
   ]
  },
  {
   "cell_type": "markdown",
   "metadata": {},
   "source": [
    "# 按照逻辑条件进行数据筛选"
   ]
  },
  {
   "cell_type": "code",
   "execution_count": 10,
   "metadata": {},
   "outputs": [
    {
     "name": "stdout",
     "output_type": "stream",
     "text": [
      "[[ True False  True False False]\n",
      " [ True  True False False False]\n",
      " [False  True False  True False]]\n"
     ]
    }
   ],
   "source": [
    "mask = stock_day_change[0:3,:5]>=0.5\n",
    "print(mask)"
   ]
  },
  {
   "cell_type": "code",
   "execution_count": 11,
   "metadata": {},
   "outputs": [
    {
     "name": "stdout",
     "output_type": "stream",
     "text": [
      "[[ 1.912149   -1.52042359  0.65424242  0.30663493 -0.45930093]\n",
      " [ 1.32365634  1.06084251 -0.48198367 -1.05260576  0.175686  ]\n",
      " [-0.66121932  0.72434783 -1.88774381  1.13566786  0.22625727]]\n"
     ]
    },
    {
     "data": {
      "text/plain": [
       "array([1.912149  , 0.65424242, 1.32365634, 1.06084251, 0.72434783,\n",
       "       1.13566786])"
      ]
     },
     "execution_count": 11,
     "metadata": {},
     "output_type": "execute_result"
    }
   ],
   "source": [
    "temp_list = stock_day_change[0:3,:5].copy()\n",
    "print(temp_list)\n",
    "temp_list[mask]"
   ]
  },
  {
   "cell_type": "code",
   "execution_count": 12,
   "metadata": {},
   "outputs": [
    {
     "name": "stdout",
     "output_type": "stream",
     "text": [
      "[[ 1.         -1.52042359  1.          0.30663493 -0.45930093]\n",
      " [ 1.          1.         -0.48198367 -1.05260576  0.175686  ]\n",
      " [-0.66121932  1.         -1.88774381  1.          0.22625727]]\n"
     ]
    }
   ],
   "source": [
    "temp_list[temp_list>0.5] = 1\n",
    "print(temp_list)"
   ]
  },
  {
   "cell_type": "markdown",
   "metadata": {},
   "source": [
    "# np.all()\n",
    "判断序列中的所有元素是否为true"
   ]
  },
  {
   "cell_type": "code",
   "execution_count": 13,
   "metadata": {},
   "outputs": [
    {
     "data": {
      "text/plain": [
       "False"
      ]
     },
     "execution_count": 13,
     "metadata": {},
     "output_type": "execute_result"
    }
   ],
   "source": [
    "np.all(stock_day_change[0:2,:5]>0)"
   ]
  },
  {
   "cell_type": "markdown",
   "metadata": {},
   "source": [
    "# np.any()\n",
    "判断序列中的所有元素是否有true"
   ]
  },
  {
   "cell_type": "code",
   "execution_count": 14,
   "metadata": {},
   "outputs": [
    {
     "data": {
      "text/plain": [
       "True"
      ]
     },
     "execution_count": 14,
     "metadata": {},
     "output_type": "execute_result"
    }
   ],
   "source": [
    "np.any(stock_day_change[:2,:5]>0)"
   ]
  },
  {
   "cell_type": "markdown",
   "metadata": {},
   "source": [
    "# np.maxmun() 和 np.minimun()\n",
    "对两个元素对应对序列做比较，取最大（小）"
   ]
  },
  {
   "cell_type": "code",
   "execution_count": 15,
   "metadata": {},
   "outputs": [
    {
     "name": "stdout",
     "output_type": "stream",
     "text": [
      "[[ 1.912149   -1.52042359  0.65424242  0.30663493 -0.45930093]\n",
      " [ 1.32365634  1.06084251 -0.48198367 -1.05260576  0.175686  ]]\n",
      "[[-1.19666818 -0.94863388  1.55984786 -0.87562957 -0.58636868]\n",
      " [ 0.92410725 -0.33076116 -2.73541386 -0.97049025  0.40270536]]\n"
     ]
    },
    {
     "data": {
      "text/plain": [
       "array([[ 1.912149  , -0.94863388,  1.55984786,  0.30663493, -0.45930093],\n",
       "       [ 1.32365634,  1.06084251, -0.48198367, -0.97049025,  0.40270536]])"
      ]
     },
     "execution_count": 15,
     "metadata": {},
     "output_type": "execute_result"
    }
   ],
   "source": [
    "print(stock_day_change[:2,:5])\n",
    "print(stock_day_change[-2:,-5:])\n",
    "np.maximum(stock_day_change[:2,:5],stock_day_change[-2:,-5:])"
   ]
  },
  {
   "cell_type": "code",
   "execution_count": 16,
   "metadata": {},
   "outputs": [
    {
     "data": {
      "text/plain": [
       "array([[-1.19666818, -1.52042359,  0.65424242, -0.87562957, -0.58636868],\n",
       "       [ 0.92410725, -0.33076116, -2.73541386, -1.05260576,  0.175686  ]])"
      ]
     },
     "execution_count": 16,
     "metadata": {},
     "output_type": "execute_result"
    }
   ],
   "source": [
    "np.minimum(stock_day_change[:2,:5],stock_day_change[-2:,-5:])"
   ]
  },
  {
   "cell_type": "markdown",
   "metadata": {},
   "source": [
    "# np.unique(nplist1)\n",
    "序列中数值唯一且不重复大值组成新的序列"
   ]
  },
  {
   "cell_type": "code",
   "execution_count": 17,
   "metadata": {},
   "outputs": [
    {
     "name": "stdout",
     "output_type": "stream",
     "text": [
      "[[ 1 -1  0  0  0]\n",
      " [ 1  1  0 -1  0]]\n"
     ]
    },
    {
     "data": {
      "text/plain": [
       "array([-1,  0,  1])"
      ]
     },
     "execution_count": 17,
     "metadata": {},
     "output_type": "execute_result"
    }
   ],
   "source": [
    "change_int = stock_day_change[:2,:5].astype(int)\n",
    "print(change_int)\n",
    "np.unique(change_int)"
   ]
  },
  {
   "cell_type": "markdown",
   "metadata": {},
   "source": [
    "## np.diff(nplist1, nplist2)\n",
    "将前后两个数值进行减法运算，默认axis=1，按照x轴方向"
   ]
  },
  {
   "cell_type": "code",
   "execution_count": 18,
   "metadata": {},
   "outputs": [
    {
     "data": {
      "text/plain": [
       "array([[-3.43257259,  2.17466601, -0.34760749, -0.76593586],\n",
       "       [-0.26281383, -1.54282618, -0.57062209,  1.22829175]])"
      ]
     },
     "execution_count": 18,
     "metadata": {},
     "output_type": "execute_result"
    }
   ],
   "source": [
    "np.diff(stock_day_change[:2,:5])"
   ]
  },
  {
   "cell_type": "code",
   "execution_count": 19,
   "metadata": {},
   "outputs": [
    {
     "data": {
      "text/plain": [
       "array([[-0.58849266,  2.5812661 , -1.13622609, -1.35924068,  0.63498692]])"
      ]
     },
     "execution_count": 19,
     "metadata": {},
     "output_type": "execute_result"
    }
   ],
   "source": [
    "np.diff(stock_day_change[:2,:5], axis=0)"
   ]
  },
  {
   "cell_type": "markdown",
   "metadata": {},
   "source": [
    "## np.where(表达式, 值1， 值2)\n",
    "如果表达式成立，赋值值1，否则赋值值2"
   ]
  },
  {
   "cell_type": "code",
   "execution_count": 20,
   "metadata": {},
   "outputs": [],
   "source": [
    "temp_list = stock_day_change[:2,:5]"
   ]
  },
  {
   "cell_type": "code",
   "execution_count": 24,
   "metadata": {},
   "outputs": [
    {
     "data": {
      "text/plain": [
       "array([[1, 0, 1, 0, 0],\n",
       "       [1, 1, 0, 0, 0]])"
      ]
     },
     "execution_count": 24,
     "metadata": {},
     "output_type": "execute_result"
    }
   ],
   "source": [
    "np.where(temp_list>.5,1,0)"
   ]
  },
  {
   "cell_type": "code",
   "execution_count": 25,
   "metadata": {},
   "outputs": [
    {
     "data": {
      "text/plain": [
       "array([[0, 0, 1, 0, 0],\n",
       "       [0, 0, 0, 0, 0]])"
      ]
     },
     "execution_count": 25,
     "metadata": {},
     "output_type": "execute_result"
    }
   ],
   "source": [
    "np.where(np.logical_and(temp_list>.5,temp_list<1),1,0)"
   ]
  },
  {
   "cell_type": "markdown",
   "metadata": {},
   "source": [
    "## 基础统计函数"
   ]
  },
  {
   "cell_type": "code",
   "execution_count": 36,
   "metadata": {},
   "outputs": [
    {
     "name": "stdout",
     "output_type": "stream",
     "text": [
      "[1.912149   1.32365634 1.13566786 1.44441551]\n",
      "[0 0 3 0]\n"
     ]
    }
   ],
   "source": [
    "stock_day_change_four = stock_day_change[:4,:4]\n",
    "t = np.max(stock_day_change_four, axis=1)\n",
    "print(t)\n",
    "t = np.argmax(stock_day_change_four, axis=1)\n",
    "print(t)"
   ]
  },
  {
   "cell_type": "markdown",
   "metadata": {},
   "source": [
    "## 伯努利案例"
   ]
  },
  {
   "cell_type": "code",
   "execution_count": 58,
   "metadata": {},
   "outputs": [
    {
     "name": "stdout",
     "output_type": "stream",
     "text": [
      "[1189690.0, 1189410.0, 1188558.0, 1190008.0, 1189916.0, 1189346.0, 1188400.0, 1191104.0, 1188288.0, 1190010.0]\n"
     ]
    }
   ],
   "source": [
    "gamblers = 10\n",
    "def casino(win_rate, win_once=1, lose_once=1, commission=.01):\n",
    "    my_money = 1000000\n",
    "    play_count = 1000000\n",
    "    commission = commission\n",
    "    for _ in np.arange(0, play_count):\n",
    "        w = np.random.binomial(1, win_rate)\n",
    "        if w:\n",
    "            my_money += win_once\n",
    "        else:\n",
    "            my_money -= lose_once\n",
    "        my_money -= commission\n",
    "        if my_money <= 0:\n",
    "            breake\n",
    "    return my_money\n",
    "\n",
    "t = casino(win_rate=.5,win_once=1,lose_once=1,commission=0)\n",
    "\n",
    "print([round(casino(win_rate=.6,win_once=1,lose_once=1,commission=.01),2) for _ in np.arange(0,gamblers)])"
   ]
  }
 ],
 "metadata": {
  "kernelspec": {
   "display_name": "Python 3",
   "language": "python",
   "name": "python3"
  },
  "language_info": {
   "codemirror_mode": {
    "name": "ipython",
    "version": 3
   },
   "file_extension": ".py",
   "mimetype": "text/x-python",
   "name": "python",
   "nbconvert_exporter": "python",
   "pygments_lexer": "ipython3",
   "version": "3.7.6"
  }
 },
 "nbformat": 4,
 "nbformat_minor": 4
}
