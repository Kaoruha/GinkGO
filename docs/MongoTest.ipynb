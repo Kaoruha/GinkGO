{
 "cells": [
  {
   "cell_type": "code",
   "execution_count": 1,
   "id": "stone-regular",
   "metadata": {
    "scrolled": true
   },
   "outputs": [],
   "source": [
    "import pandas as pd\n",
    "import numpy as np\n",
    "\n",
    "# 制造30w假数据\n",
    "def data_generator(count):\n",
    "    count = count\n",
    "    df1 = np.random.randn(count)\n",
    "    df2 = np.random.randn(count)\n",
    "    df3 = np.random.randn(count)\n",
    "    df4 = np.random.randn(count)\n",
    "    df5 = np.random.randn(count)\n",
    "\n",
    "    codes = np.random.randint(0,4800,size=count)\n",
    "    dates = pd.date_range('20090101', '20171030',freq='5Min') \n",
    "\n",
    "    mydict = {'code':codes,'date':dates[:count],'a':df1,'b':df2,'c':df3,'d':df4,'e':df5}\n",
    "    df = pd.DataFrame(mydict)\n",
    "    return df"
   ]
  },
  {
   "cell_type": "code",
   "execution_count": 2,
   "id": "processed-variance",
   "metadata": {},
   "outputs": [
    {
     "name": "stdout",
     "output_type": "stream",
     "text": [
      "['admin', 'config', 'local', 'quant', 'test']\n"
     ]
    }
   ],
   "source": [
    "import pymongo\n",
    "import time\n",
    "\n",
    "\n",
    "# 连接数据库\n",
    "client = pymongo.MongoClient('127.0.0.1', 27017)\n",
    "dblist = client.list_database_names()\n",
    "print(dblist)\n",
    "db = client.test\n",
    "col = db['insert_test']\n",
    "\n",
    "def clear_data():\n",
    "    print('开始清理数据库')\n",
    "    for x in col.find():\n",
    "        col.delete_one(x)\n",
    "    print('数据库清理完成')"
   ]
  },
  {
   "cell_type": "code",
   "execution_count": 3,
   "id": "descending-stack",
   "metadata": {},
   "outputs": [
    {
     "name": "stdout",
     "output_type": "stream",
     "text": [
      "方法注册\n"
     ]
    }
   ],
   "source": [
    "# 一次性插入30w数据\n",
    "import math\n",
    "def upsert_once(data_frame,slice):\n",
    "    \n",
    "    num = math.ceil(data_frame.shape[0]/slice)\n",
    "    for j in range(num):\n",
    "        operations = []\n",
    "        to_insert_df = data_frame[j*slice:(j+1)*slice]\n",
    "        for i in range(to_insert_df.shape[0]):\n",
    "            operations.append(\n",
    "                pymongo.UpdateOne(\n",
    "                    {\"code\": str(data_frame.iloc[i].code),\"date\": data_frame.iloc[i].date},\n",
    "                    {\n",
    "                        \"$set\": {\n",
    "                            \"a\": float(data_frame.iloc[i].a),\n",
    "                            \"b\": float(data_frame.iloc[i].b),\n",
    "                            \"c\": float(data_frame.iloc[i].c),\n",
    "                            \"d\": float(data_frame.iloc[i].d),\n",
    "                            \"e\": float(data_frame.iloc[i].e)\n",
    "                        }\n",
    "                    },\n",
    "                    upsert=True,\n",
    "                )\n",
    "            )\n",
    "            print(f'批量插入操作 {i+1}/{to_insert_df.shape[0]}||{j+1}/{num}',end=\"\\r\")\n",
    "        rs = col.bulk_write(operations)\n",
    "        print('批量插入完成',end=\"\\r\")\n",
    "    #     print(rs)\n",
    "        col.create_index([(\"code\", 1), (\"date\", 1)])\n",
    "        print('索引建立完成',end=\"\\r\")\n",
    "print('方法注册')"
   ]
  },
  {
   "cell_type": "code",
   "execution_count": 8,
   "id": "brilliant-warner",
   "metadata": {},
   "outputs": [
    {
     "name": "stdout",
     "output_type": "stream",
     "text": [
      "开始清理数据库\n",
      "数据库清理完成\n",
      "200000\n",
      "重复10次，平均每条数据插入时间为267.63216943740844\n"
     ]
    }
   ],
   "source": [
    "clear_data()\n",
    "\n",
    "\n",
    "df = data_generator(200000)\n",
    "\n",
    "\n",
    "\n",
    "# 插入操作\n",
    "print(df.shape[0])\n",
    "loop_count=10\n",
    "slice_num = 200000\n",
    "elapse=0\n",
    "for i in range(loop_count):\n",
    "    print(f'重复执行{i+1}/{loop_count}',end=\"\\r\")\n",
    "    start_time = time.time()\n",
    "    upsert_once(data_frame=df,slice=slice_num)\n",
    "    end_time = time.time()\n",
    "    elapse+=end_time-start_time\n",
    "# 插入操作end\n",
    "\n",
    "print(f'重复{loop_count}次，平均每条数据插入时间为{elapse/loop_count}')\n"
   ]
  },
  {
   "cell_type": "markdown",
   "id": "selected-robinson",
   "metadata": {},
   "source": [
    "## 模拟20w数据插入\n",
    "\n",
    "| 数据库空 | 单次量 | 线程 | 循环次数 | 平均耗时 |\n",
    "|  ----  | ----  |  ----  | ----  |  ----  |\n",
    "|  YES   | 200  |  1   | 10  |  254.72016043663024   |\n",
    "|  YES   | 2000  |  1   | 10  |  268.07236483097074   |\n",
    "|  YES   | 20000  |  1   | 10  |  257.3907039403915   |\n",
    "|  YES   | 200000  |  1   | 10  |  257.3907039403915   |"
   ]
  }
 ],
 "metadata": {
  "kernelspec": {
   "display_name": "Python [conda env:ginkgo-venv]",
   "language": "python",
   "name": "conda-env-ginkgo-venv-py"
  },
  "language_info": {
   "codemirror_mode": {
    "name": "ipython",
    "version": 3
   },
   "file_extension": ".py",
   "mimetype": "text/x-python",
   "name": "python",
   "nbconvert_exporter": "python",
   "pygments_lexer": "ipython3",
   "version": "3.8.5"
  }
 },
 "nbformat": 4,
 "nbformat_minor": 5
}
