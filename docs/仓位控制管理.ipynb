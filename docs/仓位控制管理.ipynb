{
 "cells": [
  {
   "cell_type": "markdown",
   "metadata": {},
   "source": [
    "## Markowitz 均值-方差模型\n",
    "通过均值-方差预估利润-风险，主要使用凸优化技术，在收益最大的方向上（风险最小、利润最大，风险和利润相对平衡）寻找最佳配比权重。"
   ]
  },
  {
   "cell_type": "markdown",
   "metadata": {},
   "source": [
    "## 凯利公式\n",
    "$f = \\frac{P_w * b - P_l}{b}$\n",
    "\n",
    "$P_w$ 是获利概率\n",
    "$P_l$ 是亏损概率\n",
    "\n",
    "用以计算每次Gambling游戏中应该投注的资金比例\n",
    "\n",
    "原本被用于二十一点，轮盘等输赢都相等的赌博，适合赌博场合"
   ]
  },
  {
   "cell_type": "markdown",
   "metadata": {},
   "source": [
    "## 修正凯利公式\n",
    "\n",
    "考虑了期望收益和期望亏损两个参数，让仓位更接近实际最佳值\n",
    "\n",
    "$f = P_w - \\frac{P_l}{收益期望值 / 亏损期望值}$"
   ]
  },
  {
   "cell_type": "markdown",
   "metadata": {},
   "source": [
    "## ATR指标\n",
    "\n",
    "ATR指标主要是用来衡量市场波动的强烈度，即为了显示市场变化率的指标，当市场波动剧烈那么ATR的值就会变大，当市场趋于平稳或波动较小那么ATR值就会变小。因此在资金管理中，根据ATR值实现动态仓位的计算，可以与当前市场的波动率相关联。\n",
    "\n",
    "资金管理模块由以下四部分组成：\n",
    "+ 资金分配\n",
    "+ 头寸规模\n",
    "+ 止盈止损价位\n",
    "+ 加减仓规模\n",
    "\n",
    "买入股票数量 * ATR = 资金 * 1%"
   ]
  }
 ],
 "metadata": {
  "kernelspec": {
   "display_name": "Python 3",
   "language": "python",
   "name": "python3"
  },
  "language_info": {
   "codemirror_mode": {
    "name": "ipython",
    "version": 3
   },
   "file_extension": ".py",
   "mimetype": "text/x-python",
   "name": "python",
   "nbconvert_exporter": "python",
   "pygments_lexer": "ipython3",
   "version": "3.7.6"
  }
 },
 "nbformat": 4,
 "nbformat_minor": 4
}
