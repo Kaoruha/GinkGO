


from ginkgo.data.ginkgo_data import GDATA
import pandas as pd
import matplotlib.pyplot as plt
from mpl_toolkits.mplot3d import Axes3D
import scipy.stats as stats
import numpy as np
import time
from tqdm.notebook import tqdm





stock_list = GDATA.get_stock_info_df()
# stock_list = stock_list[:200] # For Test
print(stock_list.columns)
print(stock_list['code'].head(5))


years = list(range(1995, 2024))
years = years[:2] # For Test
print(years)


decimal_category = list(range(0,10))
print("小数点首位")
print(decimal_category)


change_category = list(range(-10,11))
print("变化率边界")
print(change_category)


def get_raw_data(date_start, date_end, n): 
    pd.set_option('display.max_rows', None)
    data = pd.DataFrame()
    with tqdm(total=len(stock_list)) as pbar:
        for i, r in stock_list.iterrows():
            code = r.code
            pbar.set_description(f"{code} Query")
            df = GDATA.get_daybar_df(code=code, date_start=date_start, date_end=date_end)
            pbar.set_description(f"{code} Baken")
            df.drop(columns=['uuid', 'desc', 'source', 'frequency', 'update', 'create', 'isdel'], inplace=True)
            df['chg_tmp'] = (df['close'] - df['open']) / df['open'] * 100
            df['chg_tmp'] = df['chg_tmp'].round(2)
            df['category'] = df['close'].apply(lambda x: int(str(x).split('.')[1][0]))
            df['chg'] = df['chg_tmp'].shift(-n)
            df = df[df['chg']< (100 * (1.1 ** n) - 100)]
            df = df[df['chg']>-(100 * (1.1 ** n) - 100)]
            df.dropna(inplace=True)
            data = pd.concat([data, df], ignore_index=True)
            # data.drop(columns=['open','high','low','volume','chg_tmp'], inplace=True)
            # data.drop(columns=['chg_tmp'], inplace=True)
            # data.drop(columns=['code'], inplace=True)
            pbar.update(1)
    return data


observe_window = 2


data = get_raw_data('1995-01-01','1996-01-01',observe_window)





print("Shape: ",data.shape)
print(data.head(2))
print(data['chg'].describe())





# 按照小数点第一位分组
group = data.groupby(data['category'])

for name, gdata in group:
    print(f"Category: {name}")
    print(gdata['chg'].describe())
    plt.hist(gdata['chg'], bins=30, edgecolor='black')
    plt.title('Histogram')
    plt.show()
    stats.probplot(gdata['chg'], dist="norm", plot=plt)
    plt.title('Q-Q Plot')
    plt.show()





groups = [g['chg'].values for name, g in group]





levene_stat, levene_p = stats.levene(*groups)
print(f'Levene检验统计量: {levene_stat}, P值: {levene_p}')


# 如果方差齐性检验通过（P值大于显著性水平，例如0.05），进行ANOVA
alpha = 0.01
if levene_p > alpha:
    anova_stat, anova_p = stats.f_oneway(*groups)
    print(f'单因素ANOVA检验统计量: {anova_stat}, P值: {anova_p}')

    # 根据P值判断是否拒绝原假设
    if anova_p < alpha:
        print(f"{(1-alpha)*100}%的把握拒绝原假设：不同类别的均值不同。")
        # 进行事后分析（例如Tukey HSD检验）以确定哪些组之间有显著差异
        data_melt = pd.melt(data, id_vars=['category'], value_vars=['future_1_day_change'])
        tukey = pairwise_tukeyhsd(endog=data_melt['value'], groups=data_melt['category'], alpha=alpha)
        print(tukey)
    else:
        print(f"{(1-alpha)*100}%的把握不拒绝原假设：不同类别的均值相同。")
else:
    print("方差齐性检验未通过，需考虑使用其他方法。")





anova_stat, anova_p = stats.f_oneway(*groups, axis=0)
print(f"Welch s ANOVA检验统计量: {anova_stat}, P值: {anova_p}")

# 根据P值判断是否拒绝原假设
if anova_p < alpha:
    print(f"{(1-alpha)*100}%的把握拒绝原假设：不同类别的均值不同。")
else:
    print(f"{(1-alpha)*100}%的把握不拒绝原假设：不同类别的均值相同。")





stat, p_value = stats.kruskal(*groups)
print(f'Kruskal-Wallis 检验统计量: {stat}, P值: {p_value}')

# 根据P值判断是否拒绝原假设
if p_value < alpha:
    print(f"{(1-alpha)*100}%的把握拒绝原假设：不同类别的分布不同。")
else:
    print(f"{(1-alpha)*100}%的把握不拒绝原假设：不同类别的分布相同。")








from statsmodels.stats.multicomp import pairwise_tukeyhsd
tukey = pairwise_tukeyhsd(endog=data['chg'], groups=data['category'], alpha=alpha)
print(tukey)


# 创建一个 10x10 的零矩阵
meandiff_matrix = np.zeros((10, 10))

# 将一维数组填充到矩阵中
k = 0
for i in range(10):
    for j in range(i + 1, 10):
        meandiff_matrix[i, j] = tukey.meandiffs[k]
        meandiff_matrix[j, i] = tukey.meandiffs[k]  # 对称填充
        k += 1

# 绘制热力图
plt.figure(figsize=(8, 6))
plt.imshow(meandiff_matrix, cmap='coolwarm', interpolation='nearest')
plt.colorbar()  # 添加颜色条
plt.xlabel('Group Index')
plt.ylabel('Group Index')
plt.xticks(np.arange(10))
plt.yticks(np.arange(10))
plt.grid(False)
plt.show()



